{
  "nbformat": 4,
  "nbformat_minor": 0,
  "metadata": {
    "colab": {
      "name": "Toxic Comment Classification.ipynb",
      "provenance": [],
      "collapsed_sections": []
    },
    "kernelspec": {
      "name": "python3",
      "display_name": "Python 3"
    },
    "accelerator": "GPU"
  },
  "cells": [
    {
      "cell_type": "code",
      "metadata": {
        "id": "y35tr1MLoCas",
        "colab_type": "code",
        "colab": {
          "base_uri": "https://localhost:8080/",
          "height": 700
        },
        "outputId": "b2217ed2-2529-46e0-c3cb-8ec4dc3cdfd4"
      },
      "source": [
        "!pip install tensorflow==1.14.0\n"
      ],
      "execution_count": null,
      "outputs": [
        {
          "output_type": "stream",
          "text": [
            "Collecting tensorflow==1.14.0\n",
            "\u001b[?25l  Downloading https://files.pythonhosted.org/packages/de/f0/96fb2e0412ae9692dbf400e5b04432885f677ad6241c088ccc5fe7724d69/tensorflow-1.14.0-cp36-cp36m-manylinux1_x86_64.whl (109.2MB)\n",
            "\u001b[K     |████████████████████████████████| 109.2MB 98kB/s \n",
            "\u001b[?25hRequirement already satisfied: absl-py>=0.7.0 in /usr/local/lib/python3.6/dist-packages (from tensorflow==1.14.0) (0.9.0)\n",
            "Collecting tensorflow-estimator<1.15.0rc0,>=1.14.0rc0\n",
            "\u001b[?25l  Downloading https://files.pythonhosted.org/packages/3c/d5/21860a5b11caf0678fbc8319341b0ae21a07156911132e0e71bffed0510d/tensorflow_estimator-1.14.0-py2.py3-none-any.whl (488kB)\n",
            "\u001b[K     |████████████████████████████████| 491kB 49.5MB/s \n",
            "\u001b[?25hRequirement already satisfied: wheel>=0.26 in /usr/local/lib/python3.6/dist-packages (from tensorflow==1.14.0) (0.34.2)\n",
            "Requirement already satisfied: keras-applications>=1.0.6 in /usr/local/lib/python3.6/dist-packages (from tensorflow==1.14.0) (1.0.8)\n",
            "Requirement already satisfied: numpy<2.0,>=1.14.5 in /usr/local/lib/python3.6/dist-packages (from tensorflow==1.14.0) (1.18.5)\n",
            "Requirement already satisfied: six>=1.10.0 in /usr/local/lib/python3.6/dist-packages (from tensorflow==1.14.0) (1.12.0)\n",
            "Requirement already satisfied: keras-preprocessing>=1.0.5 in /usr/local/lib/python3.6/dist-packages (from tensorflow==1.14.0) (1.1.2)\n",
            "Collecting tensorboard<1.15.0,>=1.14.0\n",
            "\u001b[?25l  Downloading https://files.pythonhosted.org/packages/91/2d/2ed263449a078cd9c8a9ba50ebd50123adf1f8cfbea1492f9084169b89d9/tensorboard-1.14.0-py3-none-any.whl (3.1MB)\n",
            "\u001b[K     |████████████████████████████████| 3.2MB 53.3MB/s \n",
            "\u001b[?25hRequirement already satisfied: termcolor>=1.1.0 in /usr/local/lib/python3.6/dist-packages (from tensorflow==1.14.0) (1.1.0)\n",
            "Requirement already satisfied: grpcio>=1.8.6 in /usr/local/lib/python3.6/dist-packages (from tensorflow==1.14.0) (1.30.0)\n",
            "Requirement already satisfied: google-pasta>=0.1.6 in /usr/local/lib/python3.6/dist-packages (from tensorflow==1.14.0) (0.2.0)\n",
            "Requirement already satisfied: gast>=0.2.0 in /usr/local/lib/python3.6/dist-packages (from tensorflow==1.14.0) (0.3.3)\n",
            "Requirement already satisfied: astor>=0.6.0 in /usr/local/lib/python3.6/dist-packages (from tensorflow==1.14.0) (0.8.1)\n",
            "Requirement already satisfied: wrapt>=1.11.1 in /usr/local/lib/python3.6/dist-packages (from tensorflow==1.14.0) (1.12.1)\n",
            "Requirement already satisfied: protobuf>=3.6.1 in /usr/local/lib/python3.6/dist-packages (from tensorflow==1.14.0) (3.12.2)\n",
            "Requirement already satisfied: h5py in /usr/local/lib/python3.6/dist-packages (from keras-applications>=1.0.6->tensorflow==1.14.0) (2.10.0)\n",
            "Requirement already satisfied: markdown>=2.6.8 in /usr/local/lib/python3.6/dist-packages (from tensorboard<1.15.0,>=1.14.0->tensorflow==1.14.0) (3.2.2)\n",
            "Requirement already satisfied: werkzeug>=0.11.15 in /usr/local/lib/python3.6/dist-packages (from tensorboard<1.15.0,>=1.14.0->tensorflow==1.14.0) (1.0.1)\n",
            "Requirement already satisfied: setuptools>=41.0.0 in /usr/local/lib/python3.6/dist-packages (from tensorboard<1.15.0,>=1.14.0->tensorflow==1.14.0) (49.1.0)\n",
            "Requirement already satisfied: importlib-metadata; python_version < \"3.8\" in /usr/local/lib/python3.6/dist-packages (from markdown>=2.6.8->tensorboard<1.15.0,>=1.14.0->tensorflow==1.14.0) (1.7.0)\n",
            "Requirement already satisfied: zipp>=0.5 in /usr/local/lib/python3.6/dist-packages (from importlib-metadata; python_version < \"3.8\"->markdown>=2.6.8->tensorboard<1.15.0,>=1.14.0->tensorflow==1.14.0) (3.1.0)\n",
            "Installing collected packages: tensorflow-estimator, tensorboard, tensorflow\n",
            "  Found existing installation: tensorflow-estimator 2.2.0\n",
            "    Uninstalling tensorflow-estimator-2.2.0:\n",
            "      Successfully uninstalled tensorflow-estimator-2.2.0\n",
            "  Found existing installation: tensorboard 2.2.2\n",
            "    Uninstalling tensorboard-2.2.2:\n",
            "      Successfully uninstalled tensorboard-2.2.2\n",
            "  Found existing installation: tensorflow 2.2.0\n",
            "    Uninstalling tensorflow-2.2.0:\n",
            "      Successfully uninstalled tensorflow-2.2.0\n",
            "Successfully installed tensorboard-1.14.0 tensorflow-1.14.0 tensorflow-estimator-1.14.0\n"
          ],
          "name": "stdout"
        }
      ]
    },
    {
      "cell_type": "code",
      "metadata": {
        "id": "zo1Ojge4ohts",
        "colab_type": "code",
        "colab": {
          "base_uri": "https://localhost:8080/",
          "height": 173
        },
        "outputId": "f08e9120-68e7-4213-ce40-933cff029ef0"
      },
      "source": [
        "!pip install Keras==2.3.1"
      ],
      "execution_count": null,
      "outputs": [
        {
          "output_type": "stream",
          "text": [
            "Requirement already satisfied: Keras==2.3.1 in /usr/local/lib/python3.6/dist-packages (2.3.1)\n",
            "Requirement already satisfied: h5py in /usr/local/lib/python3.6/dist-packages (from Keras==2.3.1) (2.10.0)\n",
            "Requirement already satisfied: six>=1.9.0 in /usr/local/lib/python3.6/dist-packages (from Keras==2.3.1) (1.12.0)\n",
            "Requirement already satisfied: scipy>=0.14 in /usr/local/lib/python3.6/dist-packages (from Keras==2.3.1) (1.4.1)\n",
            "Requirement already satisfied: numpy>=1.9.1 in /usr/local/lib/python3.6/dist-packages (from Keras==2.3.1) (1.18.5)\n",
            "Requirement already satisfied: pyyaml in /usr/local/lib/python3.6/dist-packages (from Keras==2.3.1) (3.13)\n",
            "Requirement already satisfied: keras-preprocessing>=1.0.5 in /usr/local/lib/python3.6/dist-packages (from Keras==2.3.1) (1.1.2)\n",
            "Requirement already satisfied: keras-applications>=1.0.6 in /usr/local/lib/python3.6/dist-packages (from Keras==2.3.1) (1.0.8)\n"
          ],
          "name": "stdout"
        }
      ]
    },
    {
      "cell_type": "code",
      "metadata": {
        "id": "P_3ydLCmpSMx",
        "colab_type": "code",
        "colab": {
          "base_uri": "https://localhost:8080/",
          "height": 482
        },
        "outputId": "56bd7b02-95d0-46b1-d38f-83e67054281f"
      },
      "source": [
        "import keras\n",
        "keras.__version__"
      ],
      "execution_count": null,
      "outputs": [
        {
          "output_type": "stream",
          "text": [
            "Using TensorFlow backend.\n",
            "/usr/local/lib/python3.6/dist-packages/tensorflow/python/framework/dtypes.py:516: FutureWarning: Passing (type, 1) or '1type' as a synonym of type is deprecated; in a future version of numpy, it will be understood as (type, (1,)) / '(1,)type'.\n",
            "  _np_qint8 = np.dtype([(\"qint8\", np.int8, 1)])\n",
            "/usr/local/lib/python3.6/dist-packages/tensorflow/python/framework/dtypes.py:517: FutureWarning: Passing (type, 1) or '1type' as a synonym of type is deprecated; in a future version of numpy, it will be understood as (type, (1,)) / '(1,)type'.\n",
            "  _np_quint8 = np.dtype([(\"quint8\", np.uint8, 1)])\n",
            "/usr/local/lib/python3.6/dist-packages/tensorflow/python/framework/dtypes.py:518: FutureWarning: Passing (type, 1) or '1type' as a synonym of type is deprecated; in a future version of numpy, it will be understood as (type, (1,)) / '(1,)type'.\n",
            "  _np_qint16 = np.dtype([(\"qint16\", np.int16, 1)])\n",
            "/usr/local/lib/python3.6/dist-packages/tensorflow/python/framework/dtypes.py:519: FutureWarning: Passing (type, 1) or '1type' as a synonym of type is deprecated; in a future version of numpy, it will be understood as (type, (1,)) / '(1,)type'.\n",
            "  _np_quint16 = np.dtype([(\"quint16\", np.uint16, 1)])\n",
            "/usr/local/lib/python3.6/dist-packages/tensorflow/python/framework/dtypes.py:520: FutureWarning: Passing (type, 1) or '1type' as a synonym of type is deprecated; in a future version of numpy, it will be understood as (type, (1,)) / '(1,)type'.\n",
            "  _np_qint32 = np.dtype([(\"qint32\", np.int32, 1)])\n",
            "/usr/local/lib/python3.6/dist-packages/tensorflow/python/framework/dtypes.py:525: FutureWarning: Passing (type, 1) or '1type' as a synonym of type is deprecated; in a future version of numpy, it will be understood as (type, (1,)) / '(1,)type'.\n",
            "  np_resource = np.dtype([(\"resource\", np.ubyte, 1)])\n",
            "/usr/local/lib/python3.6/dist-packages/tensorboard/compat/tensorflow_stub/dtypes.py:541: FutureWarning: Passing (type, 1) or '1type' as a synonym of type is deprecated; in a future version of numpy, it will be understood as (type, (1,)) / '(1,)type'.\n",
            "  _np_qint8 = np.dtype([(\"qint8\", np.int8, 1)])\n",
            "/usr/local/lib/python3.6/dist-packages/tensorboard/compat/tensorflow_stub/dtypes.py:542: FutureWarning: Passing (type, 1) or '1type' as a synonym of type is deprecated; in a future version of numpy, it will be understood as (type, (1,)) / '(1,)type'.\n",
            "  _np_quint8 = np.dtype([(\"quint8\", np.uint8, 1)])\n",
            "/usr/local/lib/python3.6/dist-packages/tensorboard/compat/tensorflow_stub/dtypes.py:543: FutureWarning: Passing (type, 1) or '1type' as a synonym of type is deprecated; in a future version of numpy, it will be understood as (type, (1,)) / '(1,)type'.\n",
            "  _np_qint16 = np.dtype([(\"qint16\", np.int16, 1)])\n",
            "/usr/local/lib/python3.6/dist-packages/tensorboard/compat/tensorflow_stub/dtypes.py:544: FutureWarning: Passing (type, 1) or '1type' as a synonym of type is deprecated; in a future version of numpy, it will be understood as (type, (1,)) / '(1,)type'.\n",
            "  _np_quint16 = np.dtype([(\"quint16\", np.uint16, 1)])\n",
            "/usr/local/lib/python3.6/dist-packages/tensorboard/compat/tensorflow_stub/dtypes.py:545: FutureWarning: Passing (type, 1) or '1type' as a synonym of type is deprecated; in a future version of numpy, it will be understood as (type, (1,)) / '(1,)type'.\n",
            "  _np_qint32 = np.dtype([(\"qint32\", np.int32, 1)])\n",
            "/usr/local/lib/python3.6/dist-packages/tensorboard/compat/tensorflow_stub/dtypes.py:550: FutureWarning: Passing (type, 1) or '1type' as a synonym of type is deprecated; in a future version of numpy, it will be understood as (type, (1,)) / '(1,)type'.\n",
            "  np_resource = np.dtype([(\"resource\", np.ubyte, 1)])\n"
          ],
          "name": "stderr"
        },
        {
          "output_type": "execute_result",
          "data": {
            "application/vnd.google.colaboratory.intrinsic": {
              "type": "string"
            },
            "text/plain": [
              "'2.3.1'"
            ]
          },
          "metadata": {
            "tags": []
          },
          "execution_count": 1
        }
      ]
    },
    {
      "cell_type": "code",
      "metadata": {
        "id": "NDIImpWlpWpT",
        "colab_type": "code",
        "colab": {
          "base_uri": "https://localhost:8080/",
          "height": 37
        },
        "outputId": "b48ab0c6-7038-4206-b744-c593a2056568"
      },
      "source": [
        "import tensorflow as tf\n",
        "tf.__version__"
      ],
      "execution_count": null,
      "outputs": [
        {
          "output_type": "execute_result",
          "data": {
            "application/vnd.google.colaboratory.intrinsic": {
              "type": "string"
            },
            "text/plain": [
              "'1.14.0'"
            ]
          },
          "metadata": {
            "tags": []
          },
          "execution_count": 2
        }
      ]
    },
    {
      "cell_type": "code",
      "metadata": {
        "id": "ahrZD9jk2VHO",
        "colab_type": "code",
        "colab": {
          "base_uri": "https://localhost:8080/"
        },
        "outputId": "338287be-836d-43c9-a82a-45610f5e4c77"
      },
      "source": [
        "!pip install spellchecker"
      ],
      "execution_count": null,
      "outputs": [
        {
          "output_type": "stream",
          "text": [
            "Collecting spellchecker\n",
            "\u001b[?25l  Downloading https://files.pythonhosted.org/packages/8d/2f/95ff55a821f6fc83999f8418045ee472edcfd5fb06905090f68fda56a82a/spellchecker-0.4.tar.gz (3.9MB)\n",
            "\u001b[K     |████████████████████████████████| 3.9MB 2.8MB/s \n",
            "\u001b[?25hRequirement already satisfied: setuptools in /usr/local/lib/python3.6/dist-packages (from spellchecker) (49.1.0)\n",
            "Collecting inexactsearch\n",
            "  Downloading https://files.pythonhosted.org/packages/45/23/0b398af4295da99c5ab69d7b0bff36a2cb68e260a65f64717c17f6a20035/inexactsearch-1.0.2.tar.gz\n",
            "Collecting soundex>=1.0\n",
            "  Downloading https://files.pythonhosted.org/packages/f8/8f/37b9711595d007e82f70ae6f41b6ab6a1fda406a8321ccfc458fb5023b5f/soundex-1.1.3.tar.gz\n",
            "Collecting silpa_common>=0.3\n",
            "  Downloading https://files.pythonhosted.org/packages/8d/55/452f5103cb7071d188a818d9e2f12c19c4c8a12124a28aaa212eb6716a4d/silpa_common-0.3.tar.gz\n",
            "Building wheels for collected packages: spellchecker, inexactsearch, soundex, silpa-common\n",
            "  Building wheel for spellchecker (setup.py) ... \u001b[?25l\u001b[?25hdone\n",
            "  Created wheel for spellchecker: filename=spellchecker-0.4-cp36-none-any.whl size=3966516 sha256=93a9cc1f2f3ad2ab204804f373fd33885bb1a628bbdbaac9e66aeb88f7ae8caa\n",
            "  Stored in directory: /root/.cache/pip/wheels/a2/e6/ad/28ab959cba7100f5c562a3d1711cd34b630734d241c4e1bd40\n",
            "  Building wheel for inexactsearch (setup.py) ... \u001b[?25l\u001b[?25hdone\n",
            "  Created wheel for inexactsearch: filename=inexactsearch-1.0.2-cp36-none-any.whl size=7113 sha256=6c4f50ffc0f558d5f9411cd485b21766a876c85182235282920bb643965d7330\n",
            "  Stored in directory: /root/.cache/pip/wheels/58/e0/c1/e3fed0e9fd1a3708bc91870fb0ba30ef88527540006763674b\n",
            "  Building wheel for soundex (setup.py) ... \u001b[?25l\u001b[?25hdone\n",
            "  Created wheel for soundex: filename=soundex-1.1.3-cp36-none-any.whl size=8862 sha256=6829344406212ebc9331a233410a7037fa48e729e4eb27fc131f5ae470096bf2\n",
            "  Stored in directory: /root/.cache/pip/wheels/b5/bb/e6/9a4b6be56c40aa707509bddaf6d414187461ded9db7a25a41a\n",
            "  Building wheel for silpa-common (setup.py) ... \u001b[?25l\u001b[?25hdone\n",
            "  Created wheel for silpa-common: filename=silpa_common-0.3-cp36-none-any.whl size=8453 sha256=8c75e6996ec6a922e9294add917d6185050f678c26ab64c93eda05d9f0cbd22b\n",
            "  Stored in directory: /root/.cache/pip/wheels/16/4f/ba/604a82bf904740f1a1d3ad88029c0df5c638bd8825a3cb972d\n",
            "Successfully built spellchecker inexactsearch soundex silpa-common\n",
            "Installing collected packages: silpa-common, soundex, inexactsearch, spellchecker\n",
            "Successfully installed inexactsearch-1.0.2 silpa-common-0.3 soundex-1.1.3 spellchecker-0.4\n"
          ],
          "name": "stdout"
        }
      ]
    },
    {
      "cell_type": "code",
      "metadata": {
        "id": "lD7_1OV42hCs",
        "colab_type": "code",
        "colab": {
          "base_uri": "https://localhost:8080/",
          "height": 122
        },
        "outputId": "202ddd1f-0c73-41af-9bf0-9d2cd22e17e5"
      },
      "source": [
        "!pip install pyspellchecker "
      ],
      "execution_count": null,
      "outputs": [
        {
          "output_type": "stream",
          "text": [
            "Collecting pyspellchecker\n",
            "\u001b[?25l  Downloading https://files.pythonhosted.org/packages/04/d1/ec4e830e9f9c1fd788e1459dd09279fdf807bc7a475579fd7192450b879c/pyspellchecker-0.5.4-py2.py3-none-any.whl (1.9MB)\n",
            "\r\u001b[K     |▏                               | 10kB 19.4MB/s eta 0:00:01\r\u001b[K     |▍                               | 20kB 1.8MB/s eta 0:00:02\r\u001b[K     |▌                               | 30kB 2.3MB/s eta 0:00:01\r\u001b[K     |▊                               | 40kB 2.6MB/s eta 0:00:01\r\u001b[K     |▉                               | 51kB 2.1MB/s eta 0:00:01\r\u001b[K     |█                               | 61kB 2.3MB/s eta 0:00:01\r\u001b[K     |█▏                              | 71kB 2.6MB/s eta 0:00:01\r\u001b[K     |█▍                              | 81kB 2.8MB/s eta 0:00:01\r\u001b[K     |█▌                              | 92kB 3.0MB/s eta 0:00:01\r\u001b[K     |█▊                              | 102kB 2.8MB/s eta 0:00:01\r\u001b[K     |█▉                              | 112kB 2.8MB/s eta 0:00:01\r\u001b[K     |██                              | 122kB 2.8MB/s eta 0:00:01\r\u001b[K     |██▎                             | 133kB 2.8MB/s eta 0:00:01\r\u001b[K     |██▍                             | 143kB 2.8MB/s eta 0:00:01\r\u001b[K     |██▋                             | 153kB 2.8MB/s eta 0:00:01\r\u001b[K     |██▊                             | 163kB 2.8MB/s eta 0:00:01\r\u001b[K     |███                             | 174kB 2.8MB/s eta 0:00:01\r\u001b[K     |███                             | 184kB 2.8MB/s eta 0:00:01\r\u001b[K     |███▎                            | 194kB 2.8MB/s eta 0:00:01\r\u001b[K     |███▍                            | 204kB 2.8MB/s eta 0:00:01\r\u001b[K     |███▋                            | 215kB 2.8MB/s eta 0:00:01\r\u001b[K     |███▊                            | 225kB 2.8MB/s eta 0:00:01\r\u001b[K     |████                            | 235kB 2.8MB/s eta 0:00:01\r\u001b[K     |████▏                           | 245kB 2.8MB/s eta 0:00:01\r\u001b[K     |████▎                           | 256kB 2.8MB/s eta 0:00:01\r\u001b[K     |████▌                           | 266kB 2.8MB/s eta 0:00:01\r\u001b[K     |████▋                           | 276kB 2.8MB/s eta 0:00:01\r\u001b[K     |████▉                           | 286kB 2.8MB/s eta 0:00:01\r\u001b[K     |█████                           | 296kB 2.8MB/s eta 0:00:01\r\u001b[K     |█████▏                          | 307kB 2.8MB/s eta 0:00:01\r\u001b[K     |█████▎                          | 317kB 2.8MB/s eta 0:00:01\r\u001b[K     |█████▌                          | 327kB 2.8MB/s eta 0:00:01\r\u001b[K     |█████▋                          | 337kB 2.8MB/s eta 0:00:01\r\u001b[K     |█████▉                          | 348kB 2.8MB/s eta 0:00:01\r\u001b[K     |██████                          | 358kB 2.8MB/s eta 0:00:01\r\u001b[K     |██████▏                         | 368kB 2.8MB/s eta 0:00:01\r\u001b[K     |██████▍                         | 378kB 2.8MB/s eta 0:00:01\r\u001b[K     |██████▌                         | 389kB 2.8MB/s eta 0:00:01\r\u001b[K     |██████▊                         | 399kB 2.8MB/s eta 0:00:01\r\u001b[K     |██████▉                         | 409kB 2.8MB/s eta 0:00:01\r\u001b[K     |███████                         | 419kB 2.8MB/s eta 0:00:01\r\u001b[K     |███████▏                        | 430kB 2.8MB/s eta 0:00:01\r\u001b[K     |███████▍                        | 440kB 2.8MB/s eta 0:00:01\r\u001b[K     |███████▌                        | 450kB 2.8MB/s eta 0:00:01\r\u001b[K     |███████▊                        | 460kB 2.8MB/s eta 0:00:01\r\u001b[K     |████████                        | 471kB 2.8MB/s eta 0:00:01\r\u001b[K     |████████                        | 481kB 2.8MB/s eta 0:00:01\r\u001b[K     |████████▎                       | 491kB 2.8MB/s eta 0:00:01\r\u001b[K     |████████▍                       | 501kB 2.8MB/s eta 0:00:01\r\u001b[K     |████████▋                       | 512kB 2.8MB/s eta 0:00:01\r\u001b[K     |████████▊                       | 522kB 2.8MB/s eta 0:00:01\r\u001b[K     |█████████                       | 532kB 2.8MB/s eta 0:00:01\r\u001b[K     |█████████                       | 542kB 2.8MB/s eta 0:00:01\r\u001b[K     |█████████▎                      | 552kB 2.8MB/s eta 0:00:01\r\u001b[K     |█████████▍                      | 563kB 2.8MB/s eta 0:00:01\r\u001b[K     |█████████▋                      | 573kB 2.8MB/s eta 0:00:01\r\u001b[K     |█████████▉                      | 583kB 2.8MB/s eta 0:00:01\r\u001b[K     |██████████                      | 593kB 2.8MB/s eta 0:00:01\r\u001b[K     |██████████▏                     | 604kB 2.8MB/s eta 0:00:01\r\u001b[K     |██████████▎                     | 614kB 2.8MB/s eta 0:00:01\r\u001b[K     |██████████▌                     | 624kB 2.8MB/s eta 0:00:01\r\u001b[K     |██████████▋                     | 634kB 2.8MB/s eta 0:00:01\r\u001b[K     |██████████▉                     | 645kB 2.8MB/s eta 0:00:01\r\u001b[K     |███████████                     | 655kB 2.8MB/s eta 0:00:01\r\u001b[K     |███████████▏                    | 665kB 2.8MB/s eta 0:00:01\r\u001b[K     |███████████▎                    | 675kB 2.8MB/s eta 0:00:01\r\u001b[K     |███████████▌                    | 686kB 2.8MB/s eta 0:00:01\r\u001b[K     |███████████▊                    | 696kB 2.8MB/s eta 0:00:01\r\u001b[K     |███████████▉                    | 706kB 2.8MB/s eta 0:00:01\r\u001b[K     |████████████                    | 716kB 2.8MB/s eta 0:00:01\r\u001b[K     |████████████▏                   | 727kB 2.8MB/s eta 0:00:01\r\u001b[K     |████████████▍                   | 737kB 2.8MB/s eta 0:00:01\r\u001b[K     |████████████▌                   | 747kB 2.8MB/s eta 0:00:01\r\u001b[K     |████████████▊                   | 757kB 2.8MB/s eta 0:00:01\r\u001b[K     |████████████▉                   | 768kB 2.8MB/s eta 0:00:01\r\u001b[K     |█████████████                   | 778kB 2.8MB/s eta 0:00:01\r\u001b[K     |█████████████▏                  | 788kB 2.8MB/s eta 0:00:01\r\u001b[K     |█████████████▍                  | 798kB 2.8MB/s eta 0:00:01\r\u001b[K     |█████████████▋                  | 808kB 2.8MB/s eta 0:00:01\r\u001b[K     |█████████████▊                  | 819kB 2.8MB/s eta 0:00:01\r\u001b[K     |██████████████                  | 829kB 2.8MB/s eta 0:00:01\r\u001b[K     |██████████████                  | 839kB 2.8MB/s eta 0:00:01\r\u001b[K     |██████████████▎                 | 849kB 2.8MB/s eta 0:00:01\r\u001b[K     |██████████████▍                 | 860kB 2.8MB/s eta 0:00:01\r\u001b[K     |██████████████▋                 | 870kB 2.8MB/s eta 0:00:01\r\u001b[K     |██████████████▊                 | 880kB 2.8MB/s eta 0:00:01\r\u001b[K     |███████████████                 | 890kB 2.8MB/s eta 0:00:01\r\u001b[K     |███████████████                 | 901kB 2.8MB/s eta 0:00:01\r\u001b[K     |███████████████▎                | 911kB 2.8MB/s eta 0:00:01\r\u001b[K     |███████████████▌                | 921kB 2.8MB/s eta 0:00:01\r\u001b[K     |███████████████▋                | 931kB 2.8MB/s eta 0:00:01\r\u001b[K     |███████████████▉                | 942kB 2.8MB/s eta 0:00:01\r\u001b[K     |████████████████                | 952kB 2.8MB/s eta 0:00:01\r\u001b[K     |████████████████▏               | 962kB 2.8MB/s eta 0:00:01\r\u001b[K     |████████████████▎               | 972kB 2.8MB/s eta 0:00:01\r\u001b[K     |████████████████▌               | 983kB 2.8MB/s eta 0:00:01\r\u001b[K     |████████████████▋               | 993kB 2.8MB/s eta 0:00:01\r\u001b[K     |████████████████▉               | 1.0MB 2.8MB/s eta 0:00:01\r\u001b[K     |█████████████████               | 1.0MB 2.8MB/s eta 0:00:01\r\u001b[K     |█████████████████▏              | 1.0MB 2.8MB/s eta 0:00:01\r\u001b[K     |█████████████████▍              | 1.0MB 2.8MB/s eta 0:00:01\r\u001b[K     |█████████████████▌              | 1.0MB 2.8MB/s eta 0:00:01\r\u001b[K     |█████████████████▊              | 1.1MB 2.8MB/s eta 0:00:01\r\u001b[K     |█████████████████▉              | 1.1MB 2.8MB/s eta 0:00:01\r\u001b[K     |██████████████████              | 1.1MB 2.8MB/s eta 0:00:01\r\u001b[K     |██████████████████▏             | 1.1MB 2.8MB/s eta 0:00:01\r\u001b[K     |██████████████████▍             | 1.1MB 2.8MB/s eta 0:00:01\r\u001b[K     |██████████████████▌             | 1.1MB 2.8MB/s eta 0:00:01\r\u001b[K     |██████████████████▊             | 1.1MB 2.8MB/s eta 0:00:01\r\u001b[K     |██████████████████▉             | 1.1MB 2.8MB/s eta 0:00:01\r\u001b[K     |███████████████████             | 1.1MB 2.8MB/s eta 0:00:01\r\u001b[K     |███████████████████▎            | 1.1MB 2.8MB/s eta 0:00:01\r\u001b[K     |███████████████████▍            | 1.2MB 2.8MB/s eta 0:00:01\r\u001b[K     |███████████████████▋            | 1.2MB 2.8MB/s eta 0:00:01\r\u001b[K     |███████████████████▊            | 1.2MB 2.8MB/s eta 0:00:01\r\u001b[K     |████████████████████            | 1.2MB 2.8MB/s eta 0:00:01\r\u001b[K     |████████████████████            | 1.2MB 2.8MB/s eta 0:00:01\r\u001b[K     |████████████████████▎           | 1.2MB 2.8MB/s eta 0:00:01\r\u001b[K     |████████████████████▍           | 1.2MB 2.8MB/s eta 0:00:01\r\u001b[K     |████████████████████▋           | 1.2MB 2.8MB/s eta 0:00:01\r\u001b[K     |████████████████████▊           | 1.2MB 2.8MB/s eta 0:00:01\r\u001b[K     |█████████████████████           | 1.2MB 2.8MB/s eta 0:00:01\r\u001b[K     |█████████████████████▏          | 1.3MB 2.8MB/s eta 0:00:01\r\u001b[K     |█████████████████████▎          | 1.3MB 2.8MB/s eta 0:00:01\r\u001b[K     |█████████████████████▌          | 1.3MB 2.8MB/s eta 0:00:01\r\u001b[K     |█████████████████████▋          | 1.3MB 2.8MB/s eta 0:00:01\r\u001b[K     |█████████████████████▉          | 1.3MB 2.8MB/s eta 0:00:01\r\u001b[K     |██████████████████████          | 1.3MB 2.8MB/s eta 0:00:01\r\u001b[K     |██████████████████████▏         | 1.3MB 2.8MB/s eta 0:00:01\r\u001b[K     |██████████████████████▎         | 1.3MB 2.8MB/s eta 0:00:01\r\u001b[K     |██████████████████████▌         | 1.3MB 2.8MB/s eta 0:00:01\r\u001b[K     |██████████████████████▋         | 1.4MB 2.8MB/s eta 0:00:01\r\u001b[K     |██████████████████████▉         | 1.4MB 2.8MB/s eta 0:00:01\r\u001b[K     |███████████████████████         | 1.4MB 2.8MB/s eta 0:00:01\r\u001b[K     |███████████████████████▏        | 1.4MB 2.8MB/s eta 0:00:01\r\u001b[K     |███████████████████████▍        | 1.4MB 2.8MB/s eta 0:00:01\r\u001b[K     |███████████████████████▌        | 1.4MB 2.8MB/s eta 0:00:01\r\u001b[K     |███████████████████████▊        | 1.4MB 2.8MB/s eta 0:00:01\r\u001b[K     |███████████████████████▉        | 1.4MB 2.8MB/s eta 0:00:01\r\u001b[K     |████████████████████████        | 1.4MB 2.8MB/s eta 0:00:01\r\u001b[K     |████████████████████████▏       | 1.4MB 2.8MB/s eta 0:00:01\r\u001b[K     |████████████████████████▍       | 1.5MB 2.8MB/s eta 0:00:01\r\u001b[K     |████████████████████████▌       | 1.5MB 2.8MB/s eta 0:00:01\r\u001b[K     |████████████████████████▊       | 1.5MB 2.8MB/s eta 0:00:01\r\u001b[K     |█████████████████████████       | 1.5MB 2.8MB/s eta 0:00:01\r\u001b[K     |█████████████████████████       | 1.5MB 2.8MB/s eta 0:00:01\r\u001b[K     |█████████████████████████▎      | 1.5MB 2.8MB/s eta 0:00:01\r\u001b[K     |█████████████████████████▍      | 1.5MB 2.8MB/s eta 0:00:01\r\u001b[K     |█████████████████████████▋      | 1.5MB 2.8MB/s eta 0:00:01\r\u001b[K     |█████████████████████████▊      | 1.5MB 2.8MB/s eta 0:00:01\r\u001b[K     |██████████████████████████      | 1.5MB 2.8MB/s eta 0:00:01\r\u001b[K     |██████████████████████████      | 1.6MB 2.8MB/s eta 0:00:01\r\u001b[K     |██████████████████████████▎     | 1.6MB 2.8MB/s eta 0:00:01\r\u001b[K     |██████████████████████████▍     | 1.6MB 2.8MB/s eta 0:00:01\r\u001b[K     |██████████████████████████▋     | 1.6MB 2.8MB/s eta 0:00:01\r\u001b[K     |██████████████████████████▉     | 1.6MB 2.8MB/s eta 0:00:01\r\u001b[K     |███████████████████████████     | 1.6MB 2.8MB/s eta 0:00:01\r\u001b[K     |███████████████████████████▏    | 1.6MB 2.8MB/s eta 0:00:01\r\u001b[K     |███████████████████████████▎    | 1.6MB 2.8MB/s eta 0:00:01\r\u001b[K     |███████████████████████████▌    | 1.6MB 2.8MB/s eta 0:00:01\r\u001b[K     |███████████████████████████▋    | 1.6MB 2.8MB/s eta 0:00:01\r\u001b[K     |███████████████████████████▉    | 1.7MB 2.8MB/s eta 0:00:01\r\u001b[K     |████████████████████████████    | 1.7MB 2.8MB/s eta 0:00:01\r\u001b[K     |████████████████████████████▏   | 1.7MB 2.8MB/s eta 0:00:01\r\u001b[K     |████████████████████████████▎   | 1.7MB 2.8MB/s eta 0:00:01\r\u001b[K     |████████████████████████████▌   | 1.7MB 2.8MB/s eta 0:00:01\r\u001b[K     |████████████████████████████▊   | 1.7MB 2.8MB/s eta 0:00:01\r\u001b[K     |████████████████████████████▉   | 1.7MB 2.8MB/s eta 0:00:01\r\u001b[K     |█████████████████████████████   | 1.7MB 2.8MB/s eta 0:00:01\r\u001b[K     |█████████████████████████████▏  | 1.7MB 2.8MB/s eta 0:00:01\r\u001b[K     |█████████████████████████████▍  | 1.8MB 2.8MB/s eta 0:00:01\r\u001b[K     |█████████████████████████████▌  | 1.8MB 2.8MB/s eta 0:00:01\r\u001b[K     |█████████████████████████████▊  | 1.8MB 2.8MB/s eta 0:00:01\r\u001b[K     |█████████████████████████████▉  | 1.8MB 2.8MB/s eta 0:00:01\r\u001b[K     |██████████████████████████████  | 1.8MB 2.8MB/s eta 0:00:01\r\u001b[K     |██████████████████████████████▏ | 1.8MB 2.8MB/s eta 0:00:01\r\u001b[K     |██████████████████████████████▍ | 1.8MB 2.8MB/s eta 0:00:01\r\u001b[K     |██████████████████████████████▋ | 1.8MB 2.8MB/s eta 0:00:01\r\u001b[K     |██████████████████████████████▊ | 1.8MB 2.8MB/s eta 0:00:01\r\u001b[K     |███████████████████████████████ | 1.8MB 2.8MB/s eta 0:00:01\r\u001b[K     |███████████████████████████████ | 1.9MB 2.8MB/s eta 0:00:01\r\u001b[K     |███████████████████████████████▎| 1.9MB 2.8MB/s eta 0:00:01\r\u001b[K     |███████████████████████████████▍| 1.9MB 2.8MB/s eta 0:00:01\r\u001b[K     |███████████████████████████████▋| 1.9MB 2.8MB/s eta 0:00:01\r\u001b[K     |███████████████████████████████▊| 1.9MB 2.8MB/s eta 0:00:01\r\u001b[K     |████████████████████████████████| 1.9MB 2.8MB/s eta 0:00:01\r\u001b[K     |████████████████████████████████| 1.9MB 2.8MB/s \n",
            "\u001b[?25hInstalling collected packages: pyspellchecker\n",
            "Successfully installed pyspellchecker-0.5.4\n"
          ],
          "name": "stdout"
        }
      ]
    },
    {
      "cell_type": "code",
      "metadata": {
        "id": "OsoVM7C-pn86",
        "colab_type": "code",
        "colab": {}
      },
      "source": [
        "import pandas as pd\n",
        "import re\n",
        "import nltk\n",
        "import numpy as np\n",
        "from nltk.corpus import stopwords\n",
        "from bs4 import BeautifulSoup\n",
        "from nltk.stem.porter import PorterStemmer\n",
        "from nltk.stem.wordnet import WordNetLemmatizer\n",
        "from nltk.corpus import wordnet\n",
        "from spellchecker import SpellChecker\n",
        "from wordcloud import WordCloud, STOPWORDS\n",
        "from sklearn.model_selection import train_test_split\n",
        "from tensorflow.keras.preprocessing.text import Tokenizer\n",
        "from tensorflow.keras.preprocessing.sequence import pad_sequences\n",
        "import json\n",
        "from keras.models import Sequential\n",
        "from keras.layers import LSTM,Dense,Conv1D,MaxPooling1D,GlobalMaxPooling1D,SpatialDropout1D,Flatten,GRU, Embedding, Dropout, Activation\n",
        "from keras.optimizers import Adam\n",
        "from tensorflow.keras.models import Model\n",
        "\n",
        "\n"
      ],
      "execution_count": null,
      "outputs": []
    },
    {
      "cell_type": "code",
      "metadata": {
        "id": "gMz3MQxfv2MP",
        "colab_type": "code",
        "colab": {
          "base_uri": "https://localhost:8080/"
        },
        "outputId": "974dee5b-437f-407a-cefd-7be12b570687"
      },
      "source": [
        "nltk.download('stopwords')"
      ],
      "execution_count": null,
      "outputs": [
        {
          "output_type": "stream",
          "text": [
            "[nltk_data] Downloading package stopwords to /root/nltk_data...\n",
            "[nltk_data]   Unzipping corpora/stopwords.zip.\n"
          ],
          "name": "stdout"
        },
        {
          "output_type": "execute_result",
          "data": {
            "text/plain": [
              "True"
            ]
          },
          "metadata": {
            "tags": []
          },
          "execution_count": 6
        }
      ]
    },
    {
      "cell_type": "code",
      "metadata": {
        "id": "PB26ahPhyhSj",
        "colab_type": "code",
        "colab": {
          "base_uri": "https://localhost:8080/",
          "height": 68
        },
        "outputId": "b8fafce0-be97-4b5b-fc9b-5ad7c759922f"
      },
      "source": [
        "nltk.download('wordnet')"
      ],
      "execution_count": null,
      "outputs": [
        {
          "output_type": "stream",
          "text": [
            "[nltk_data] Downloading package wordnet to /root/nltk_data...\n",
            "[nltk_data]   Unzipping corpora/wordnet.zip.\n"
          ],
          "name": "stdout"
        },
        {
          "output_type": "execute_result",
          "data": {
            "text/plain": [
              "True"
            ]
          },
          "metadata": {
            "tags": []
          },
          "execution_count": 7
        }
      ]
    },
    {
      "cell_type": "code",
      "metadata": {
        "id": "-ZCz3sIYznR5",
        "colab_type": "code",
        "colab": {
          "base_uri": "https://localhost:8080/",
          "height": 85
        },
        "outputId": "2dbb3f19-edf0-40b4-9260-9fcd0df129c0"
      },
      "source": [
        "nltk.download('averaged_perceptron_tagger')"
      ],
      "execution_count": null,
      "outputs": [
        {
          "output_type": "stream",
          "text": [
            "[nltk_data] Downloading package averaged_perceptron_tagger to\n",
            "[nltk_data]     /root/nltk_data...\n",
            "[nltk_data]   Unzipping taggers/averaged_perceptron_tagger.zip.\n"
          ],
          "name": "stdout"
        },
        {
          "output_type": "execute_result",
          "data": {
            "text/plain": [
              "True"
            ]
          },
          "metadata": {
            "tags": []
          },
          "execution_count": 8
        }
      ]
    },
    {
      "cell_type": "code",
      "metadata": {
        "id": "dXQkIHA3p2xb",
        "colab_type": "code",
        "colab": {}
      },
      "source": [
        "df = pd.read_csv(\"/content/drive/My Drive/Toxic Comment Dataset/train.csv\")"
      ],
      "execution_count": null,
      "outputs": []
    },
    {
      "cell_type": "code",
      "metadata": {
        "id": "dTazJ8UStlyB",
        "colab_type": "code",
        "colab": {
          "base_uri": "https://localhost:8080/",
          "height": 204
        },
        "outputId": "7bd19c5f-aee5-4af1-dff9-757bc4204a91"
      },
      "source": [
        "df.head()"
      ],
      "execution_count": null,
      "outputs": [
        {
          "output_type": "execute_result",
          "data": {
            "text/html": [
              "<div>\n",
              "<style scoped>\n",
              "    .dataframe tbody tr th:only-of-type {\n",
              "        vertical-align: middle;\n",
              "    }\n",
              "\n",
              "    .dataframe tbody tr th {\n",
              "        vertical-align: top;\n",
              "    }\n",
              "\n",
              "    .dataframe thead th {\n",
              "        text-align: right;\n",
              "    }\n",
              "</style>\n",
              "<table border=\"1\" class=\"dataframe\">\n",
              "  <thead>\n",
              "    <tr style=\"text-align: right;\">\n",
              "      <th></th>\n",
              "      <th>id</th>\n",
              "      <th>comment_text</th>\n",
              "      <th>toxic</th>\n",
              "      <th>severe_toxic</th>\n",
              "      <th>obscene</th>\n",
              "      <th>threat</th>\n",
              "      <th>insult</th>\n",
              "      <th>identity_hate</th>\n",
              "    </tr>\n",
              "  </thead>\n",
              "  <tbody>\n",
              "    <tr>\n",
              "      <th>0</th>\n",
              "      <td>0000997932d777bf</td>\n",
              "      <td>Explanation\\nWhy the edits made under my usern...</td>\n",
              "      <td>0</td>\n",
              "      <td>0</td>\n",
              "      <td>0</td>\n",
              "      <td>0</td>\n",
              "      <td>0</td>\n",
              "      <td>0</td>\n",
              "    </tr>\n",
              "    <tr>\n",
              "      <th>1</th>\n",
              "      <td>000103f0d9cfb60f</td>\n",
              "      <td>D'aww! He matches this background colour I'm s...</td>\n",
              "      <td>0</td>\n",
              "      <td>0</td>\n",
              "      <td>0</td>\n",
              "      <td>0</td>\n",
              "      <td>0</td>\n",
              "      <td>0</td>\n",
              "    </tr>\n",
              "    <tr>\n",
              "      <th>2</th>\n",
              "      <td>000113f07ec002fd</td>\n",
              "      <td>Hey man, I'm really not trying to edit war. It...</td>\n",
              "      <td>0</td>\n",
              "      <td>0</td>\n",
              "      <td>0</td>\n",
              "      <td>0</td>\n",
              "      <td>0</td>\n",
              "      <td>0</td>\n",
              "    </tr>\n",
              "    <tr>\n",
              "      <th>3</th>\n",
              "      <td>0001b41b1c6bb37e</td>\n",
              "      <td>\"\\nMore\\nI can't make any real suggestions on ...</td>\n",
              "      <td>0</td>\n",
              "      <td>0</td>\n",
              "      <td>0</td>\n",
              "      <td>0</td>\n",
              "      <td>0</td>\n",
              "      <td>0</td>\n",
              "    </tr>\n",
              "    <tr>\n",
              "      <th>4</th>\n",
              "      <td>0001d958c54c6e35</td>\n",
              "      <td>You, sir, are my hero. Any chance you remember...</td>\n",
              "      <td>0</td>\n",
              "      <td>0</td>\n",
              "      <td>0</td>\n",
              "      <td>0</td>\n",
              "      <td>0</td>\n",
              "      <td>0</td>\n",
              "    </tr>\n",
              "  </tbody>\n",
              "</table>\n",
              "</div>"
            ],
            "text/plain": [
              "                 id  ... identity_hate\n",
              "0  0000997932d777bf  ...             0\n",
              "1  000103f0d9cfb60f  ...             0\n",
              "2  000113f07ec002fd  ...             0\n",
              "3  0001b41b1c6bb37e  ...             0\n",
              "4  0001d958c54c6e35  ...             0\n",
              "\n",
              "[5 rows x 8 columns]"
            ]
          },
          "metadata": {
            "tags": []
          },
          "execution_count": 45
        }
      ]
    },
    {
      "cell_type": "code",
      "metadata": {
        "id": "KKsTZUTEtuOs",
        "colab_type": "code",
        "colab": {}
      },
      "source": [
        "special_character_removal=re.compile(r'[^?!.,:a-z\\d ]',re.IGNORECASE)\n",
        "contractions = { \n",
        "\"ain't\": \"am not / are not / is not / has not / have not\",\n",
        "\"aren't\": \"are not / am not\",\n",
        "\"can't\": \"cannot\",\n",
        "\"can't've\": \"cannot have\",\n",
        "\"'cause\": \"because\",\n",
        "\"could've\": \"could have\",\n",
        "\"couldn't\": \"could not\",\n",
        "\"couldn't've\": \"could not have\",\n",
        "\"didn't\": \"did not\",\n",
        "\"doesn't\": \"does not\",\n",
        "\"don't\": \"do not\",\n",
        "\"hadn't\": \"had not\",\n",
        "\"hadn't've\": \"had not have\",\n",
        "\"hasn't\": \"has not\",\n",
        "\"haven't\": \"have not\",\n",
        "\"he'd\": \"he had / he would\",\n",
        "\"he'd've\": \"he would have\",\n",
        "\"he'll\": \"he shall / he will\",\n",
        "\"he'll've\": \"he shall have / he will have\",\n",
        "\"he's\": \"he has / he is\",\n",
        "\"how'd\": \"how did\",\n",
        "\"how'd'y\": \"how do you\",\n",
        "\"how'll\": \"how will\",\n",
        "\"how's\": \"how has / how is / how does\",\n",
        "\"I'd\": \"I had / I would\",\n",
        "\"I'd've\": \"I would have\",\n",
        "\"I'll\": \"I shall / I will\",\n",
        "\"I'll've\": \"I shall have / I will have\",\n",
        "\"I'm\": \"I am\",\n",
        "\"i'm\" : \"i am\",\n",
        "\"I've\": \"I have\",\n",
        "\"isn't\": \"is not\",\n",
        "\"it'd\": \"it had / it would\",\n",
        "\"it'd've\": \"it would have\",\n",
        "\"it'll\": \"it shall / it will\",\n",
        "\"it'll've\": \"it shall have / it will have\",\n",
        "\"it's\": \"it has / it is\",\n",
        "\"let's\": \"let us\",\n",
        "\"ma'am\": \"madam\",\n",
        "\"mayn't\": \"may not\",\n",
        "\"might've\": \"might have\",\n",
        "\"mightn't\": \"might not\",\n",
        "\"mightn't've\": \"might not have\",\n",
        "\"must've\": \"must have\",\n",
        "\"mustn't\": \"must not\",\n",
        "\"mustn't've\": \"must not have\",\n",
        "\"needn't\": \"need not\",\n",
        "\"needn't've\": \"need not have\",\n",
        "\"o'clock\": \"of the clock\",\n",
        "\"oughtn't\": \"ought not\",\n",
        "\"oughtn't've\": \"ought not have\",\n",
        "\"shan't\": \"shall not\",\n",
        "\"sha'n't\": \"shall not\",\n",
        "\"shan't've\": \"shall not have\",\n",
        "\"she'd\": \"she had / she would\",\n",
        "\"she'd've\": \"she would have\",\n",
        "\"she'll\": \"she shall / she will\",\n",
        "\"she'll've\": \"she shall have / she will have\",\n",
        "\"she's\": \"she has / she is\",\n",
        "\"should've\": \"should have\",\n",
        "\"shouldn't\": \"should not\",\n",
        "\"shouldn't've\": \"should not have\",\n",
        "\"so've\": \"so have\",\n",
        "\"so's\": \"so as / so is\",\n",
        "\"that'd\": \"that would / that had\",\n",
        "\"that'd've\": \"that would have\",\n",
        "\"that's\": \"that has / that is\",\n",
        "\"there'd\": \"there had / there would\",\n",
        "\"there'd've\": \"there would have\",\n",
        "\"there's\": \"there has / there is\",\n",
        "\"they'd\": \"they had / they would\",\n",
        "\"they'd've\": \"they would have\",\n",
        "\"they'll\": \"they shall / they will\",\n",
        "\"they'll've\": \"they shall have / they will have\",\n",
        "\"they're\": \"they are\",\n",
        "\"they've\": \"they have\",\n",
        "\"to've\": \"to have\",\n",
        "\"wasn't\": \"was not\",\n",
        "\"we'd\": \"we had / we would\",\n",
        "\"we'd've\": \"we would have\",\n",
        "\"we'll\": \"we will\",\n",
        "\"we'll've\": \"we will have\",\n",
        "\"we're\": \"we are\",\n",
        "\"we've\": \"we have\",\n",
        "\"weren't\": \"were not\",\n",
        "\"what'll\": \"what shall / what will\",\n",
        "\"what'll've\": \"what shall have / what will have\",\n",
        "\"what're\": \"what are\",\n",
        "\"what's\": \"what has / what is\",\n",
        "\"what've\": \"what have\",\n",
        "\"when's\": \"when has / when is\",\n",
        "\"when've\": \"when have\",\n",
        "\"where'd\": \"where did\",\n",
        "\"where's\": \"where has / where is\",\n",
        "\"where've\": \"where have\",\n",
        "\"who'll\": \"who shall / who will\",\n",
        "\"who'll've\": \"who shall have / who will have\",\n",
        "\"who's\": \"who has / who is\",\n",
        "\"who've\": \"who have\",\n",
        "\"why's\": \"why has / why is\",\n",
        "\"why've\": \"why have\",\n",
        "\"will've\": \"will have\",\n",
        "\"won't\": \"will not\",\n",
        "\"won't've\": \"will not have\",\n",
        "\"would've\": \"would have\",\n",
        "\"wouldn't\": \"would not\",\n",
        "\"wouldn't've\": \"would not have\",\n",
        "\"y'all\": \"you all\",\n",
        "\"y'all'd\": \"you all would\",\n",
        "\"y'all'd've\": \"you all would have\",\n",
        "\"y'all're\": \"you all are\",\n",
        "\"y'all've\": \"you all have\",\n",
        "\"you'd\": \"you had / you would\",\n",
        "\"you'd've\": \"you would have\",\n",
        "\"you'll\": \"you shall / you will\",\n",
        "\"you'll've\": \"you shall have / you will have\",\n",
        "\"you're\": \"you are\",\n",
        "\"you've\": \"you have\"\n",
        "}\n",
        "stop_words = set(stopwords.words('english')) # stopwords\n",
        "REPLACE_BY_SPACE_RE = re.compile('[/(){}\\[\\]\\|@,;]')\n",
        "BAD_SYMBOLS_RE = re.compile('[^0-9a-z #+_]')\n",
        "stemmer = PorterStemmer()\n",
        "lemmatizer = WordNetLemmatizer()\n",
        "wordnet_map = {\"N\":wordnet.NOUN, \"V\":wordnet.VERB, \"J\":wordnet.ADJ, \"R\":wordnet.ADV}\n",
        "\n",
        "def lemmatize_words(text):\n",
        "    pos_tagged_text = nltk.pos_tag(text.split())\n",
        "    return \" \".join([lemmatizer.lemmatize(word, wordnet_map.get(pos[0], wordnet.NOUN)) for word, pos in pos_tagged_text])"
      ],
      "execution_count": null,
      "outputs": []
    },
    {
      "cell_type": "code",
      "metadata": {
        "id": "plvd8YxXuhrd",
        "colab_type": "code",
        "colab": {}
      },
      "source": [
        "def cont_to_exp(x):\n",
        "    if type(x) is str:\n",
        "        for key in contractions:\n",
        "            value = contractions[key]\n",
        "            x = x.replace(key,value)\n",
        "        return x\n",
        "    else:\n",
        "        return x"
      ],
      "execution_count": null,
      "outputs": []
    },
    {
      "cell_type": "code",
      "metadata": {
        "id": "qf1xvbMk222Q",
        "colab_type": "code",
        "colab": {}
      },
      "source": [
        "spell = SpellChecker()\n",
        "\n",
        "def correct_spellings(text):\n",
        "    corrected_text = []\n",
        "    misspelled_words = spell.unknown(text.split())\n",
        "    for word in text.split():\n",
        "        if word in misspelled_words:\n",
        "            corrected_text.append(spell.correction(word))\n",
        "        else:\n",
        "            corrected_text.append(word)\n",
        "    return \" \".join(corrected_text)"
      ],
      "execution_count": null,
      "outputs": []
    },
    {
      "cell_type": "code",
      "metadata": {
        "id": "meuRGWmJuBOV",
        "colab_type": "code",
        "colab": {}
      },
      "source": [
        "def clean_text(text):\n",
        "  text = cont_to_exp(text)\n",
        "  text = text.lower()\n",
        "  text = BeautifulSoup(text,\"lxml\").text\n",
        "  text = re.sub('[\\d]','',text)\n",
        "  text = REPLACE_BY_SPACE_RE.sub(' ',text)\n",
        "  text = BAD_SYMBOLS_RE.sub(' ',text)\n",
        "  text = ' '.join([word for word in text.split() if word not in set(stop_words)])\n",
        "  \n",
        "  return text"
      ],
      "execution_count": null,
      "outputs": []
    },
    {
      "cell_type": "code",
      "metadata": {
        "id": "bpzvYMywu3Lz",
        "colab_type": "code",
        "colab": {}
      },
      "source": [
        ""
      ],
      "execution_count": null,
      "outputs": []
    },
    {
      "cell_type": "code",
      "metadata": {
        "id": "IpoAyykZu2_U",
        "colab_type": "code",
        "colab": {
          "base_uri": "https://localhost:8080/",
          "height": 173
        },
        "outputId": "e0c20eba-bc00-4692-efe6-1c0d41afe832"
      },
      "source": [
        "df['comment_text'] = df['comment_text'].apply(lambda x: clean_text(x))"
      ],
      "execution_count": null,
      "outputs": [
        {
          "output_type": "stream",
          "text": [
            "/usr/local/lib/python3.6/dist-packages/bs4/__init__.py:336: UserWarning: \"http://en.wikipedia.org/wiki/wikipedia_talk:no_original_research/archive15#youtube_art_as_primary_source\" looks like a URL. Beautiful Soup is not an HTTP client. You should probably use an HTTP client like requests to get the document behind the URL, and feed that document to Beautiful Soup.\n",
            "  ' that document to Beautiful Soup.' % decoded_markup\n",
            "/usr/local/lib/python3.6/dist-packages/bs4/__init__.py:336: UserWarning: \"http://finance.yahoo.com/news/7-fascinating-nuggets-another-bewildering-150348488.html\" looks like a URL. Beautiful Soup is not an HTTP client. You should probably use an HTTP client like requests to get the document behind the URL, and feed that document to Beautiful Soup.\n",
            "  ' that document to Beautiful Soup.' % decoded_markup\n",
            "/usr/local/lib/python3.6/dist-packages/bs4/__init__.py:336: UserWarning: \"http://en.wikipedia.org/wiki/wikipedia:elyes\" looks like a URL. Beautiful Soup is not an HTTP client. You should probably use an HTTP client like requests to get the document behind the URL, and feed that document to Beautiful Soup.\n",
            "  ' that document to Beautiful Soup.' % decoded_markup\n",
            "/usr/local/lib/python3.6/dist-packages/bs4/__init__.py:336: UserWarning: \"http://www.haaretz.com/news/diplomacy-defense/2-279-calories-per-person-how-israel-made-sure-gaza-didn-t-starve.premium-1.470419\" looks like a URL. Beautiful Soup is not an HTTP client. You should probably use an HTTP client like requests to get the document behind the URL, and feed that document to Beautiful Soup.\n",
            "  ' that document to Beautiful Soup.' % decoded_markup\n"
          ],
          "name": "stderr"
        }
      ]
    },
    {
      "cell_type": "code",
      "metadata": {
        "id": "Pg4w8IoZysmz",
        "colab_type": "code",
        "colab": {}
      },
      "source": [
        "df['comment_text'] = df['comment_text'].apply(lambda x: lemmatize_words(x))"
      ],
      "execution_count": null,
      "outputs": []
    },
    {
      "cell_type": "code",
      "metadata": {
        "id": "zdv2XXwJzbQs",
        "colab_type": "code",
        "colab": {
          "base_uri": "https://localhost:8080/",
          "height": 470
        },
        "outputId": "2cb4f92d-bad9-49ec-e9fe-531164a870d7"
      },
      "source": [
        "df"
      ],
      "execution_count": null,
      "outputs": [
        {
          "output_type": "execute_result",
          "data": {
            "text/html": [
              "<div>\n",
              "<style scoped>\n",
              "    .dataframe tbody tr th:only-of-type {\n",
              "        vertical-align: middle;\n",
              "    }\n",
              "\n",
              "    .dataframe tbody tr th {\n",
              "        vertical-align: top;\n",
              "    }\n",
              "\n",
              "    .dataframe thead th {\n",
              "        text-align: right;\n",
              "    }\n",
              "</style>\n",
              "<table border=\"1\" class=\"dataframe\">\n",
              "  <thead>\n",
              "    <tr style=\"text-align: right;\">\n",
              "      <th></th>\n",
              "      <th>id</th>\n",
              "      <th>comment_text</th>\n",
              "      <th>toxic</th>\n",
              "      <th>severe_toxic</th>\n",
              "      <th>obscene</th>\n",
              "      <th>threat</th>\n",
              "      <th>insult</th>\n",
              "      <th>identity_hate</th>\n",
              "    </tr>\n",
              "  </thead>\n",
              "  <tbody>\n",
              "    <tr>\n",
              "      <th>0</th>\n",
              "      <td>0000997932d777bf</td>\n",
              "      <td>explanation edits make username hardcore metal...</td>\n",
              "      <td>0</td>\n",
              "      <td>0</td>\n",
              "      <td>0</td>\n",
              "      <td>0</td>\n",
              "      <td>0</td>\n",
              "      <td>0</td>\n",
              "    </tr>\n",
              "    <tr>\n",
              "      <th>1</th>\n",
              "      <td>000103f0d9cfb60f</td>\n",
              "      <td>aww match background colour seemingly stuck th...</td>\n",
              "      <td>0</td>\n",
              "      <td>0</td>\n",
              "      <td>0</td>\n",
              "      <td>0</td>\n",
              "      <td>0</td>\n",
              "      <td>0</td>\n",
              "    </tr>\n",
              "    <tr>\n",
              "      <th>2</th>\n",
              "      <td>000113f07ec002fd</td>\n",
              "      <td>hey man really try edit war guy constantly rem...</td>\n",
              "      <td>0</td>\n",
              "      <td>0</td>\n",
              "      <td>0</td>\n",
              "      <td>0</td>\n",
              "      <td>0</td>\n",
              "      <td>0</td>\n",
              "    </tr>\n",
              "    <tr>\n",
              "      <th>3</th>\n",
              "      <td>0001b41b1c6bb37e</td>\n",
              "      <td>cannot make real suggestion improvement wonder...</td>\n",
              "      <td>0</td>\n",
              "      <td>0</td>\n",
              "      <td>0</td>\n",
              "      <td>0</td>\n",
              "      <td>0</td>\n",
              "      <td>0</td>\n",
              "    </tr>\n",
              "    <tr>\n",
              "      <th>4</th>\n",
              "      <td>0001d958c54c6e35</td>\n",
              "      <td>sir hero chance remember page</td>\n",
              "      <td>0</td>\n",
              "      <td>0</td>\n",
              "      <td>0</td>\n",
              "      <td>0</td>\n",
              "      <td>0</td>\n",
              "      <td>0</td>\n",
              "    </tr>\n",
              "    <tr>\n",
              "      <th>...</th>\n",
              "      <td>...</td>\n",
              "      <td>...</td>\n",
              "      <td>...</td>\n",
              "      <td>...</td>\n",
              "      <td>...</td>\n",
              "      <td>...</td>\n",
              "      <td>...</td>\n",
              "      <td>...</td>\n",
              "    </tr>\n",
              "    <tr>\n",
              "      <th>159566</th>\n",
              "      <td>ffe987279560d7ff</td>\n",
              "      <td>second time ask view completely contradict cov...</td>\n",
              "      <td>0</td>\n",
              "      <td>0</td>\n",
              "      <td>0</td>\n",
              "      <td>0</td>\n",
              "      <td>0</td>\n",
              "      <td>0</td>\n",
              "    </tr>\n",
              "    <tr>\n",
              "      <th>159567</th>\n",
              "      <td>ffea4adeee384e90</td>\n",
              "      <td>ashamed horrible thing put talk page</td>\n",
              "      <td>0</td>\n",
              "      <td>0</td>\n",
              "      <td>0</td>\n",
              "      <td>0</td>\n",
              "      <td>0</td>\n",
              "      <td>0</td>\n",
              "    </tr>\n",
              "    <tr>\n",
              "      <th>159568</th>\n",
              "      <td>ffee36eab5c267c9</td>\n",
              "      <td>spitzer umm there actual article prostitution ...</td>\n",
              "      <td>0</td>\n",
              "      <td>0</td>\n",
              "      <td>0</td>\n",
              "      <td>0</td>\n",
              "      <td>0</td>\n",
              "      <td>0</td>\n",
              "    </tr>\n",
              "    <tr>\n",
              "      <th>159569</th>\n",
              "      <td>fff125370e4aaaf3</td>\n",
              "      <td>look like actually put speedy first version de...</td>\n",
              "      <td>0</td>\n",
              "      <td>0</td>\n",
              "      <td>0</td>\n",
              "      <td>0</td>\n",
              "      <td>0</td>\n",
              "      <td>0</td>\n",
              "    </tr>\n",
              "    <tr>\n",
              "      <th>159570</th>\n",
              "      <td>fff46fc426af1f9a</td>\n",
              "      <td>really think understand come idea bad right aw...</td>\n",
              "      <td>0</td>\n",
              "      <td>0</td>\n",
              "      <td>0</td>\n",
              "      <td>0</td>\n",
              "      <td>0</td>\n",
              "      <td>0</td>\n",
              "    </tr>\n",
              "  </tbody>\n",
              "</table>\n",
              "<p>159571 rows × 8 columns</p>\n",
              "</div>"
            ],
            "text/plain": [
              "                      id  ... identity_hate\n",
              "0       0000997932d777bf  ...             0\n",
              "1       000103f0d9cfb60f  ...             0\n",
              "2       000113f07ec002fd  ...             0\n",
              "3       0001b41b1c6bb37e  ...             0\n",
              "4       0001d958c54c6e35  ...             0\n",
              "...                  ...  ...           ...\n",
              "159566  ffe987279560d7ff  ...             0\n",
              "159567  ffea4adeee384e90  ...             0\n",
              "159568  ffee36eab5c267c9  ...             0\n",
              "159569  fff125370e4aaaf3  ...             0\n",
              "159570  fff46fc426af1f9a  ...             0\n",
              "\n",
              "[159571 rows x 8 columns]"
            ]
          },
          "metadata": {
            "tags": []
          },
          "execution_count": 52
        }
      ]
    },
    {
      "cell_type": "code",
      "metadata": {
        "id": "tVBaUjFAzqv3",
        "colab_type": "code",
        "colab": {}
      },
      "source": [
        "#data = data.apply(lambda x: correct_spellings(x))"
      ],
      "execution_count": null,
      "outputs": []
    },
    {
      "cell_type": "code",
      "metadata": {
        "id": "pITTg1w13D0o",
        "colab_type": "code",
        "colab": {}
      },
      "source": [
        "df.to_csv('/content/drive/My Drive/Toxic Comment Dataset/clean_toxic.csv')"
      ],
      "execution_count": null,
      "outputs": []
    },
    {
      "cell_type": "code",
      "metadata": {
        "id": "ugVOUluo4FUz",
        "colab_type": "code",
        "colab": {}
      },
      "source": [
        "data = pd.read_csv('/content/drive/My Drive/Toxic Comment Dataset/clean_toxic.csv')"
      ],
      "execution_count": null,
      "outputs": []
    },
    {
      "cell_type": "code",
      "metadata": {
        "id": "WuH7SgGG4Q-p",
        "colab_type": "code",
        "colab": {}
      },
      "source": [
        "data = data.drop(['Unnamed: 0','id'],axis=1)"
      ],
      "execution_count": null,
      "outputs": []
    },
    {
      "cell_type": "code",
      "metadata": {
        "id": "TPHCVxmP4S9O",
        "colab_type": "code",
        "colab": {
          "base_uri": "https://localhost:8080/",
          "height": 204
        },
        "outputId": "c53a852d-af48-4882-c91a-6bb141cbc937"
      },
      "source": [
        "data.head()"
      ],
      "execution_count": null,
      "outputs": [
        {
          "output_type": "execute_result",
          "data": {
            "text/html": [
              "<div>\n",
              "<style scoped>\n",
              "    .dataframe tbody tr th:only-of-type {\n",
              "        vertical-align: middle;\n",
              "    }\n",
              "\n",
              "    .dataframe tbody tr th {\n",
              "        vertical-align: top;\n",
              "    }\n",
              "\n",
              "    .dataframe thead th {\n",
              "        text-align: right;\n",
              "    }\n",
              "</style>\n",
              "<table border=\"1\" class=\"dataframe\">\n",
              "  <thead>\n",
              "    <tr style=\"text-align: right;\">\n",
              "      <th></th>\n",
              "      <th>comment_text</th>\n",
              "      <th>toxic</th>\n",
              "      <th>severe_toxic</th>\n",
              "      <th>obscene</th>\n",
              "      <th>threat</th>\n",
              "      <th>insult</th>\n",
              "      <th>identity_hate</th>\n",
              "    </tr>\n",
              "  </thead>\n",
              "  <tbody>\n",
              "    <tr>\n",
              "      <th>0</th>\n",
              "      <td>explanation edits make username hardcore metal...</td>\n",
              "      <td>0</td>\n",
              "      <td>0</td>\n",
              "      <td>0</td>\n",
              "      <td>0</td>\n",
              "      <td>0</td>\n",
              "      <td>0</td>\n",
              "    </tr>\n",
              "    <tr>\n",
              "      <th>1</th>\n",
              "      <td>aww match background colour seemingly stuck th...</td>\n",
              "      <td>0</td>\n",
              "      <td>0</td>\n",
              "      <td>0</td>\n",
              "      <td>0</td>\n",
              "      <td>0</td>\n",
              "      <td>0</td>\n",
              "    </tr>\n",
              "    <tr>\n",
              "      <th>2</th>\n",
              "      <td>hey man really try edit war guy constantly rem...</td>\n",
              "      <td>0</td>\n",
              "      <td>0</td>\n",
              "      <td>0</td>\n",
              "      <td>0</td>\n",
              "      <td>0</td>\n",
              "      <td>0</td>\n",
              "    </tr>\n",
              "    <tr>\n",
              "      <th>3</th>\n",
              "      <td>cannot make real suggestion improvement wonder...</td>\n",
              "      <td>0</td>\n",
              "      <td>0</td>\n",
              "      <td>0</td>\n",
              "      <td>0</td>\n",
              "      <td>0</td>\n",
              "      <td>0</td>\n",
              "    </tr>\n",
              "    <tr>\n",
              "      <th>4</th>\n",
              "      <td>sir hero chance remember page</td>\n",
              "      <td>0</td>\n",
              "      <td>0</td>\n",
              "      <td>0</td>\n",
              "      <td>0</td>\n",
              "      <td>0</td>\n",
              "      <td>0</td>\n",
              "    </tr>\n",
              "  </tbody>\n",
              "</table>\n",
              "</div>"
            ],
            "text/plain": [
              "                                        comment_text  ...  identity_hate\n",
              "0  explanation edits make username hardcore metal...  ...              0\n",
              "1  aww match background colour seemingly stuck th...  ...              0\n",
              "2  hey man really try edit war guy constantly rem...  ...              0\n",
              "3  cannot make real suggestion improvement wonder...  ...              0\n",
              "4                      sir hero chance remember page  ...              0\n",
              "\n",
              "[5 rows x 7 columns]"
            ]
          },
          "metadata": {
            "tags": []
          },
          "execution_count": 11
        }
      ]
    },
    {
      "cell_type": "code",
      "metadata": {
        "id": "HYpwOIIs846S",
        "colab_type": "code",
        "colab": {
          "base_uri": "https://localhost:8080/"
        },
        "outputId": "43a168fb-59e2-4d50-9712-fc9850d3a19c"
      },
      "source": [
        "data.isnull().values.any()"
      ],
      "execution_count": null,
      "outputs": [
        {
          "output_type": "execute_result",
          "data": {
            "text/plain": [
              "True"
            ]
          },
          "metadata": {
            "tags": []
          },
          "execution_count": 12
        }
      ]
    },
    {
      "cell_type": "code",
      "metadata": {
        "id": "xVdqwjZs87oI",
        "colab_type": "code",
        "colab": {
          "base_uri": "https://localhost:8080/",
          "height": 153
        },
        "outputId": "bc6a52bb-d945-4496-9ca5-ddc0d07287ef"
      },
      "source": [
        "data.isnull().sum()"
      ],
      "execution_count": null,
      "outputs": [
        {
          "output_type": "execute_result",
          "data": {
            "text/plain": [
              "comment_text     68\n",
              "toxic             0\n",
              "severe_toxic      0\n",
              "obscene           0\n",
              "threat            0\n",
              "insult            0\n",
              "identity_hate     0\n",
              "dtype: int64"
            ]
          },
          "metadata": {
            "tags": []
          },
          "execution_count": 13
        }
      ]
    },
    {
      "cell_type": "code",
      "metadata": {
        "id": "2pwc3d7l8_7e",
        "colab_type": "code",
        "colab": {}
      },
      "source": [
        "data = data.dropna()"
      ],
      "execution_count": null,
      "outputs": []
    },
    {
      "cell_type": "code",
      "metadata": {
        "id": "NhJNLrHS9DyE",
        "colab_type": "code",
        "colab": {
          "base_uri": "https://localhost:8080/",
          "height": 153
        },
        "outputId": "156ef2a5-81a2-4fb2-9034-d9a8aaa94fe8"
      },
      "source": [
        "data.isnull().sum()"
      ],
      "execution_count": null,
      "outputs": [
        {
          "output_type": "execute_result",
          "data": {
            "text/plain": [
              "comment_text     0\n",
              "toxic            0\n",
              "severe_toxic     0\n",
              "obscene          0\n",
              "threat           0\n",
              "insult           0\n",
              "identity_hate    0\n",
              "dtype: int64"
            ]
          },
          "metadata": {
            "tags": []
          },
          "execution_count": 15
        }
      ]
    },
    {
      "cell_type": "code",
      "metadata": {
        "id": "aHYPTDLb4biA",
        "colab_type": "code",
        "colab": {
          "base_uri": "https://localhost:8080/",
          "height": 282
        },
        "outputId": "cde1719f-ea5b-474a-fe96-64b89b7ef7f1"
      },
      "source": [
        "data['comment_text'].str.len().hist()"
      ],
      "execution_count": null,
      "outputs": [
        {
          "output_type": "execute_result",
          "data": {
            "text/plain": [
              "<matplotlib.axes._subplots.AxesSubplot at 0x7ff32205aeb8>"
            ]
          },
          "metadata": {
            "tags": []
          },
          "execution_count": 16
        },
        {
          "output_type": "display_data",
          "data": {
            "image/png": "[encoded data removed]",
            "text/plain": [
              "<Figure size 432x288 with 1 Axes>"
            ]
          },
          "metadata": {
            "tags": [],
            "needs_background": "light"
          }
        }
      ]
    },
    {
      "cell_type": "code",
      "metadata": {
        "id": "uW5E1Us64y0X",
        "colab_type": "code",
        "colab": {
          "base_uri": "https://localhost:8080/",
          "height": 282
        },
        "outputId": "186f79a2-61af-4580-d18c-ba5c0b9a0750"
      },
      "source": [
        "data['len'] = data['comment_text'].apply(lambda s : len(s))\n",
        "data['len'].plot.hist(bins=100)"
      ],
      "execution_count": null,
      "outputs": [
        {
          "output_type": "execute_result",
          "data": {
            "text/plain": [
              "<matplotlib.axes._subplots.AxesSubplot at 0x7ff324071208>"
            ]
          },
          "metadata": {
            "tags": []
          },
          "execution_count": 17
        },
        {
          "output_type": "display_data",
          "data": {
            "image/png": "[encoded data removed]",
            "text/plain": [
              "<Figure size 432x288 with 1 Axes>"
            ]
          },
          "metadata": {
            "tags": [],
            "needs_background": "light"
          }
        }
      ]
    },
    {
      "cell_type": "code",
      "metadata": {
        "id": "zVffG2Ap5WW3",
        "colab_type": "code",
        "colab": {
          "base_uri": "https://localhost:8080/"
        },
        "outputId": "496a86d3-980a-425b-ff07-c95bd5ed7f2c"
      },
      "source": [
        "data.len.quantile(0.60) # 160 will be the max_length of sequence\n"
      ],
      "execution_count": null,
      "outputs": [
        {
          "output_type": "execute_result",
          "data": {
            "text/plain": [
              "161.0"
            ]
          },
          "metadata": {
            "tags": []
          },
          "execution_count": 18
        }
      ]
    },
    {
      "cell_type": "code",
      "metadata": {
        "id": "3cAuF5F06RFf",
        "colab_type": "code",
        "colab": {}
      },
      "source": [
        "embed_size = 200 # how big is each word vector\n",
        "max_features = 150000 # how many unique words to use (i.e num rows in embedding vector)\n",
        "batch_size = 512 # how many samples to process at once\n",
        "n_epochs = 20 # how many times to iterate over all samples\n",
        "maxlen = 160 #  max_length of sequence\n"
      ],
      "execution_count": null,
      "outputs": []
    },
    {
      "cell_type": "code",
      "metadata": {
        "id": "ZsAptTpl-UB2",
        "colab_type": "code",
        "colab": {}
      },
      "source": [
        "data = data.drop(['len'],axis=1)"
      ],
      "execution_count": null,
      "outputs": []
    },
    {
      "cell_type": "code",
      "metadata": {
        "id": "gASD--vv_CdR",
        "colab_type": "code",
        "colab": {}
      },
      "source": [
        "data = data.loc[~((data['toxic'] == 0) & (data['severe_toxic'] == 0) & (data['obscene'] == 0) & (data['threat'] == 0)  & (data['insult'] == 0) & (data['identity_hate'] == 0))]"
      ],
      "execution_count": null,
      "outputs": []
    },
    {
      "cell_type": "code",
      "metadata": {
        "id": "7MYYRz6d_DKX",
        "colab_type": "code",
        "colab": {}
      },
      "source": [
        "data.reset_index(inplace=True)"
      ],
      "execution_count": null,
      "outputs": []
    },
    {
      "cell_type": "code",
      "metadata": {
        "id": "KTgGFJ2H_ghg",
        "colab_type": "code",
        "colab": {}
      },
      "source": [
        "data = data.drop(['index'],axis=1)"
      ],
      "execution_count": null,
      "outputs": []
    },
    {
      "cell_type": "code",
      "metadata": {
        "id": "RldIJl0JABxn",
        "colab_type": "code",
        "colab": {
          "base_uri": "https://localhost:8080/",
          "height": 419
        },
        "outputId": "25e86732-465f-48c1-dc98-9d655989ec3c"
      },
      "source": [
        "data"
      ],
      "execution_count": null,
      "outputs": [
        {
          "output_type": "execute_result",
          "data": {
            "text/html": [
              "<div>\n",
              "<style scoped>\n",
              "    .dataframe tbody tr th:only-of-type {\n",
              "        vertical-align: middle;\n",
              "    }\n",
              "\n",
              "    .dataframe tbody tr th {\n",
              "        vertical-align: top;\n",
              "    }\n",
              "\n",
              "    .dataframe thead th {\n",
              "        text-align: right;\n",
              "    }\n",
              "</style>\n",
              "<table border=\"1\" class=\"dataframe\">\n",
              "  <thead>\n",
              "    <tr style=\"text-align: right;\">\n",
              "      <th></th>\n",
              "      <th>comment_text</th>\n",
              "      <th>toxic</th>\n",
              "      <th>severe_toxic</th>\n",
              "      <th>obscene</th>\n",
              "      <th>threat</th>\n",
              "      <th>insult</th>\n",
              "      <th>identity_hate</th>\n",
              "    </tr>\n",
              "  </thead>\n",
              "  <tbody>\n",
              "    <tr>\n",
              "      <th>0</th>\n",
              "      <td>cocksucker piss around work</td>\n",
              "      <td>1</td>\n",
              "      <td>1</td>\n",
              "      <td>1</td>\n",
              "      <td>0</td>\n",
              "      <td>1</td>\n",
              "      <td>0</td>\n",
              "    </tr>\n",
              "    <tr>\n",
              "      <th>1</th>\n",
              "      <td>hey talk exclusive group wp taliban good destr...</td>\n",
              "      <td>1</td>\n",
              "      <td>0</td>\n",
              "      <td>0</td>\n",
              "      <td>0</td>\n",
              "      <td>0</td>\n",
              "      <td>0</td>\n",
              "    </tr>\n",
              "    <tr>\n",
              "      <th>2</th>\n",
              "      <td>bye look come think comming back tosser</td>\n",
              "      <td>1</td>\n",
              "      <td>0</td>\n",
              "      <td>0</td>\n",
              "      <td>0</td>\n",
              "      <td>0</td>\n",
              "      <td>0</td>\n",
              "    </tr>\n",
              "    <tr>\n",
              "      <th>3</th>\n",
              "      <td>gay antisemmitian archangel white tiger meow g...</td>\n",
              "      <td>1</td>\n",
              "      <td>0</td>\n",
              "      <td>1</td>\n",
              "      <td>0</td>\n",
              "      <td>1</td>\n",
              "      <td>1</td>\n",
              "    </tr>\n",
              "    <tr>\n",
              "      <th>4</th>\n",
              "      <td>fuck filthy mother as dry</td>\n",
              "      <td>1</td>\n",
              "      <td>0</td>\n",
              "      <td>1</td>\n",
              "      <td>0</td>\n",
              "      <td>1</td>\n",
              "      <td>0</td>\n",
              "    </tr>\n",
              "    <tr>\n",
              "      <th>...</th>\n",
              "      <td>...</td>\n",
              "      <td>...</td>\n",
              "      <td>...</td>\n",
              "      <td>...</td>\n",
              "      <td>...</td>\n",
              "      <td>...</td>\n",
              "      <td>...</td>\n",
              "    </tr>\n",
              "    <tr>\n",
              "      <th>16218</th>\n",
              "      <td>previous conversation fuck shit eating liberal...</td>\n",
              "      <td>1</td>\n",
              "      <td>0</td>\n",
              "      <td>1</td>\n",
              "      <td>0</td>\n",
              "      <td>1</td>\n",
              "      <td>1</td>\n",
              "    </tr>\n",
              "    <tr>\n",
              "      <th>16219</th>\n",
              "      <td>mischievious pubic hair</td>\n",
              "      <td>1</td>\n",
              "      <td>0</td>\n",
              "      <td>0</td>\n",
              "      <td>0</td>\n",
              "      <td>1</td>\n",
              "      <td>0</td>\n",
              "    </tr>\n",
              "    <tr>\n",
              "      <th>16220</th>\n",
              "      <td>absurd edits absurd edit great white shark tot...</td>\n",
              "      <td>1</td>\n",
              "      <td>0</td>\n",
              "      <td>1</td>\n",
              "      <td>0</td>\n",
              "      <td>1</td>\n",
              "      <td>0</td>\n",
              "    </tr>\n",
              "    <tr>\n",
              "      <th>16221</th>\n",
              "      <td>hey listen ever delete edits ever annoy wwe k ...</td>\n",
              "      <td>1</td>\n",
              "      <td>0</td>\n",
              "      <td>0</td>\n",
              "      <td>0</td>\n",
              "      <td>1</td>\n",
              "      <td>0</td>\n",
              "    </tr>\n",
              "    <tr>\n",
              "      <th>16222</th>\n",
              "      <td>go keep post stuff u delete fuck site close fu...</td>\n",
              "      <td>1</td>\n",
              "      <td>0</td>\n",
              "      <td>1</td>\n",
              "      <td>0</td>\n",
              "      <td>1</td>\n",
              "      <td>0</td>\n",
              "    </tr>\n",
              "  </tbody>\n",
              "</table>\n",
              "<p>16223 rows × 7 columns</p>\n",
              "</div>"
            ],
            "text/plain": [
              "                                            comment_text  ...  identity_hate\n",
              "0                            cocksucker piss around work  ...              0\n",
              "1      hey talk exclusive group wp taliban good destr...  ...              0\n",
              "2                bye look come think comming back tosser  ...              0\n",
              "3      gay antisemmitian archangel white tiger meow g...  ...              1\n",
              "4                              fuck filthy mother as dry  ...              0\n",
              "...                                                  ...  ...            ...\n",
              "16218  previous conversation fuck shit eating liberal...  ...              1\n",
              "16219                            mischievious pubic hair  ...              0\n",
              "16220  absurd edits absurd edit great white shark tot...  ...              0\n",
              "16221  hey listen ever delete edits ever annoy wwe k ...  ...              0\n",
              "16222  go keep post stuff u delete fuck site close fu...  ...              0\n",
              "\n",
              "[16223 rows x 7 columns]"
            ]
          },
          "metadata": {
            "tags": []
          },
          "execution_count": 24
        }
      ]
    },
    {
      "cell_type": "code",
      "metadata": {
        "id": "t0bHqHZuB0We",
        "colab_type": "code",
        "colab": {
          "base_uri": "https://localhost:8080/",
          "height": 71
        },
        "outputId": "b126d580-7e5d-4f63-cebc-805582af8541"
      },
      "source": [
        "import matplotlib.pyplot as plt\n",
        "import seaborn as sns\n"
      ],
      "execution_count": null,
      "outputs": [
        {
          "output_type": "stream",
          "text": [
            "/usr/local/lib/python3.6/dist-packages/statsmodels/tools/_testing.py:19: FutureWarning: pandas.util.testing is deprecated. Use the functions in the public API at pandas.testing instead.\n",
            "  import pandas.util.testing as tm\n"
          ],
          "name": "stderr"
        }
      ]
    },
    {
      "cell_type": "code",
      "metadata": {
        "id": "gOL9Z5joAcQY",
        "colab_type": "code",
        "colab": {
          "base_uri": "https://localhost:8080/",
          "height": 299
        },
        "outputId": "98257a61-cf5a-4612-f6e2-b8fa1fba9c51"
      },
      "source": [
        "x=data.iloc[:,1:].sum()\n",
        "#plot\n",
        "plt.figure(figsize=(8,4))\n",
        "ax= sns.barplot(x.index, x.values, alpha=0.8)\n",
        "plt.title(\"# per class\")\n",
        "plt.ylabel('# of Occurrences', fontsize=12)\n",
        "plt.xlabel('Type ', fontsize=12)\n",
        "#adding the text labels\n",
        "rects = ax.patches\n",
        "labels = x.values\n",
        "for rect, label in zip(rects, labels):\n",
        "    height = rect.get_height()\n",
        "    ax.text(rect.get_x() + rect.get_width()/2, height + 5, label, ha='center', va='bottom')\n",
        "\n",
        "plt.show()"
      ],
      "execution_count": null,
      "outputs": [
        {
          "output_type": "display_data",
          "data": {
            "image/png": "[encoded data removed]",
            "text/plain": [
              "<Figure size 576x288 with 1 Axes>"
            ]
          },
          "metadata": {
            "tags": [],
            "needs_background": "light"
          }
        }
      ]
    },
    {
      "cell_type": "code",
      "metadata": {
        "id": "ZL-BWFBZCfHP",
        "colab_type": "code",
        "colab": {}
      },
      "source": [
        "color = sns.color_palette()\n"
      ],
      "execution_count": null,
      "outputs": []
    },
    {
      "cell_type": "code",
      "metadata": {
        "id": "v6Tijj1vBvtu",
        "colab_type": "code",
        "colab": {
          "base_uri": "https://localhost:8080/"
        },
        "outputId": "818a4ded-a115-47e8-fd08-1b17f427e144"
      },
      "source": [
        "x=data['toxic'].value_counts()\n",
        "\n",
        "#plot\n",
        "plt.figure(figsize=(8,4))\n",
        "ax = sns.barplot(x.index, x.values, alpha=0.8,color=color[2])\n",
        "plt.title(\"Multiple tags per comment\")\n",
        "plt.ylabel('# of Occurrences', fontsize=12)\n",
        "plt.xlabel('# of tags ', fontsize=12)\n",
        "\n",
        "#adding the text labels\n",
        "rects = ax.patches\n",
        "labels = x.values\n",
        "for rect, label in zip(rects, labels):\n",
        "    height = rect.get_height()\n",
        "    ax.text(rect.get_x() + rect.get_width()/2, height + 5, label, ha='center', va='bottom')\n",
        "\n",
        "plt.show()"
      ],
      "execution_count": null,
      "outputs": [
        {
          "output_type": "display_data",
          "data": {
            "image/png": "[encoded data removed]",
            "text/plain": [
              "<Figure size 576x288 with 1 Axes>"
            ]
          },
          "metadata": {
            "tags": [],
            "needs_background": "light"
          }
        }
      ]
    },
    {
      "cell_type": "code",
      "metadata": {
        "id": "v2yXEFuQCO5B",
        "colab_type": "code",
        "colab": {
          "base_uri": "https://localhost:8080/",
          "height": 298
        },
        "outputId": "d5751ac0-463c-418e-fb16-5ec660ece7c6"
      },
      "source": [
        "x=data['severe_toxic'].value_counts()\n",
        "\n",
        "#plot\n",
        "plt.figure(figsize=(8,4))\n",
        "ax = sns.barplot(x.index, x.values, alpha=0.8,color=color[2])\n",
        "plt.title(\"Multiple tags per comment\")\n",
        "plt.ylabel('# of Occurrences', fontsize=12)\n",
        "plt.xlabel('# of tags ', fontsize=12)\n",
        "\n",
        "#adding the text labels\n",
        "rects = ax.patches\n",
        "labels = x.values\n",
        "for rect, label in zip(rects, labels):\n",
        "    height = rect.get_height()\n",
        "    ax.text(rect.get_x() + rect.get_width()/2, height + 5, label, ha='center', va='bottom')\n",
        "\n",
        "plt.show()"
      ],
      "execution_count": null,
      "outputs": [
        {
          "output_type": "display_data",
          "data": {
            "image/png": "[encoded data removed]",
            "text/plain": [
              "<Figure size 576x288 with 1 Axes>"
            ]
          },
          "metadata": {
            "tags": [],
            "needs_background": "light"
          }
        }
      ]
    },
    {
      "cell_type": "code",
      "metadata": {
        "id": "jT9NVuhSCj4C",
        "colab_type": "code",
        "colab": {
          "base_uri": "https://localhost:8080/",
          "height": 512
        },
        "outputId": "4729c3d1-f727-45bb-c9dd-1d6411422815"
      },
      "source": [
        "temp_df=data.iloc[:,1:]\n",
        "\n",
        "corr=temp_df.corr()\n",
        "plt.figure(figsize=(10,8))\n",
        "sns.heatmap(corr,\n",
        "            xticklabels=corr.columns.values,\n",
        "            yticklabels=corr.columns.values, annot=True)"
      ],
      "execution_count": null,
      "outputs": [
        {
          "output_type": "execute_result",
          "data": {
            "text/plain": [
              "<matplotlib.axes._subplots.AxesSubplot at 0x7ff32214b278>"
            ]
          },
          "metadata": {
            "tags": []
          },
          "execution_count": 30
        },
        {
          "output_type": "display_data",
          "data": {
            "image/png": "[encoded data removed]",
            "text/plain": [
              "<Figure size 720x576 with 2 Axes>"
            ]
          },
          "metadata": {
            "tags": [],
            "needs_background": "light"
          }
        }
      ]
    },
    {
      "cell_type": "code",
      "metadata": {
        "id": "ZcSnuJ7fDZRX",
        "colab_type": "code",
        "colab": {}
      },
      "source": [
        "from wordcloud import WordCloud ,STOPWORDS\n"
      ],
      "execution_count": null,
      "outputs": []
    },
    {
      "cell_type": "code",
      "metadata": {
        "id": "XzSEWavNCr88",
        "colab_type": "code",
        "colab": {
          "base_uri": "https://localhost:8080/",
          "height": 323
        },
        "outputId": "5fed9f94-febe-407c-bab7-92f724076ffd"
      },
      "source": [
        "subset=data[data.toxic==1]\n",
        "text=subset.comment_text.values\n",
        "wc= WordCloud(background_color=\"black\",max_words=4000,stopwords=stop_words)\n",
        "wc.generate(\" \".join(text))\n",
        "plt.figure(figsize=(20,20))\n",
        "plt.subplot(221)\n",
        "plt.axis(\"off\")\n",
        "plt.title(\"Words frequented in Toxic Comments\", fontsize=20)\n",
        "plt.imshow(wc.recolor(colormap= 'Reds' , random_state=244), alpha=0.98)"
      ],
      "execution_count": null,
      "outputs": [
        {
          "output_type": "execute_result",
          "data": {
            "text/plain": [
              "<matplotlib.image.AxesImage at 0x7f632afde550>"
            ]
          },
          "metadata": {
            "tags": []
          },
          "execution_count": 121
        },
        {
          "output_type": "display_data",
          "data": {
            "image/png": "[encoded data removed]",
            "text/plain": [
              "<Figure size 1440x1440 with 1 Axes>"
            ]
          },
          "metadata": {
            "tags": [],
            "needs_background": "light"
          }
        }
      ]
    },
    {
      "cell_type": "code",
      "metadata": {
        "id": "_I7cVcpmC6mM",
        "colab_type": "code",
        "colab": {}
      },
      "source": [
        "X = data['comment_text']\n",
        "classes = [\"toxic\", \"severe_toxic\", \"obscene\", \"threat\", \"insult\", \"identity_hate\"]\n",
        "X = list(X)\n",
        "y = data[classes].values"
      ],
      "execution_count": null,
      "outputs": []
    },
    {
      "cell_type": "code",
      "metadata": {
        "id": "nDkr3Hh7E7or",
        "colab_type": "code",
        "colab": {
          "base_uri": "https://localhost:8080/",
          "height": 34
        },
        "outputId": "a348fa0a-bf3e-416b-aea4-2cfe7e05481c"
      },
      "source": [
        "# Tokenize text\n",
        "tokenizer = Tokenizer(num_words=max_features)\n",
        "tokenizer.fit_on_texts(X)\n",
        "train_X = tokenizer.texts_to_sequences(X)\n",
        "\n",
        "# vocabulary\n",
        "word_index = tokenizer.word_index\n",
        "print('Vocabulary size:', len(word_index))\n",
        "\n",
        "## Pad the sentences \n",
        "train_X = pad_sequences(train_X, maxlen=maxlen)"
      ],
      "execution_count": null,
      "outputs": [
        {
          "output_type": "stream",
          "text": [
            "Vocabulary size: 29431\n"
          ],
          "name": "stdout"
        }
      ]
    },
    {
      "cell_type": "code",
      "metadata": {
        "id": "_G6gYUWAISQG",
        "colab_type": "code",
        "colab": {}
      },
      "source": [
        "import pickle\n",
        "pickle.dump(tokenizer,open('toxic_tokenizer.pkl','wb'))"
      ],
      "execution_count": null,
      "outputs": []
    },
    {
      "cell_type": "code",
      "metadata": {
        "id": "E-TrkvKFFday",
        "colab_type": "code",
        "colab": {
          "base_uri": "https://localhost:8080/",
          "height": 51
        },
        "outputId": "fbf9417f-45fa-4909-c552-7646554cb3a7"
      },
      "source": [
        "print('Shape of data tensor:', train_X.shape)\n",
        "print('Shape of label tensor:', y.shape)"
      ],
      "execution_count": null,
      "outputs": [
        {
          "output_type": "stream",
          "text": [
            "Shape of data tensor: (16223, 160)\n",
            "Shape of label tensor: (16223, 6)\n"
          ],
          "name": "stdout"
        }
      ]
    },
    {
      "cell_type": "code",
      "metadata": {
        "id": "QUhA6dIIFjHs",
        "colab_type": "code",
        "colab": {}
      },
      "source": [
        "X_train, X_test, y_train, y_test = train_test_split(train_X, y, \n",
        "                                                    test_size=0.20)"
      ],
      "execution_count": null,
      "outputs": []
    },
    {
      "cell_type": "code",
      "metadata": {
        "id": "jWDhnN6KFoxl",
        "colab_type": "code",
        "colab": {
          "base_uri": "https://localhost:8080/",
          "height": 68
        },
        "outputId": "c6078dc5-b4d9-4d27-ec35-6179916c3db5"
      },
      "source": [
        "print('Number of entries in each comment:')\n",
        "print('training: ', y_train.sum(axis=0))\n",
        "print('test: ', y_test.sum(axis=0))"
      ],
      "execution_count": null,
      "outputs": [
        {
          "output_type": "stream",
          "text": [
            "Number of entries in each comment:\n",
            "training:  [12241  1296  6781   392  6322  1117]\n",
            "test:  [3051  299 1667   86 1553  288]\n"
          ],
          "name": "stdout"
        }
      ]
    },
    {
      "cell_type": "code",
      "metadata": {
        "id": "X5XBX5vxFvVR",
        "colab_type": "code",
        "colab": {}
      },
      "source": [
        "glove_vectors = dict()\n",
        "# Creating Dictionary of Word and corresponding Vectors\n",
        "file = open('/content/drive/My Drive/glove.6B.200d.txt',encoding='utf-8')\n",
        "\n",
        "for line in file:\n",
        "    values = line.split()\n",
        "    word = values[0] # each word \n",
        "    vectors = np.asarray(values[1:],dtype='float32')\n",
        "    glove_vectors[word] = vectors\n",
        "file.close()"
      ],
      "execution_count": null,
      "outputs": []
    },
    {
      "cell_type": "code",
      "metadata": {
        "id": "RQQZ6iWHF0zV",
        "colab_type": "code",
        "colab": {}
      },
      "source": [
        "embedding_matrix = np.random.random((len(word_index) + 1, embed_size))"
      ],
      "execution_count": null,
      "outputs": []
    },
    {
      "cell_type": "code",
      "metadata": {
        "id": "rRgLt9yyGFf_",
        "colab_type": "code",
        "colab": {
          "base_uri": "https://localhost:8080/",
          "height": 34
        },
        "outputId": "bb589092-2bb6-43a6-84bf-83b5e1379a95"
      },
      "source": [
        "for word,index in word_index.items():\n",
        "    if index >= max_features:\n",
        "        continue\n",
        "    embedding_vector = glove_vectors.get(word)\n",
        "    if embedding_vector is not None:\n",
        "        embedding_matrix[index] = embedding_vector\n",
        "    else:\n",
        "        embedding_vector = glove_vectors.get(word.capitalize())\n",
        "        if embedding_vector is not None:\n",
        "            embedding_matrix[i] = embedding_vector\n",
        "print('Completed creating embedding matrix')"
      ],
      "execution_count": null,
      "outputs": [
        {
          "output_type": "stream",
          "text": [
            "Completed creating embedding matrix\n"
          ],
          "name": "stdout"
        }
      ]
    },
    {
      "cell_type": "code",
      "metadata": {
        "id": "nJqvTawhGHXQ",
        "colab_type": "code",
        "colab": {
          "base_uri": "https://localhost:8080/",
          "height": 34
        },
        "outputId": "b7efdb57-64f6-4ae3-e638-5531c44547d6"
      },
      "source": [
        "print(\"Shape of embedding matrix is {}\".format(np.shape(embedding_matrix)))"
      ],
      "execution_count": null,
      "outputs": [
        {
          "output_type": "stream",
          "text": [
            "Shape of embedding matrix is (29432, 200)\n"
          ],
          "name": "stdout"
        }
      ]
    },
    {
      "cell_type": "code",
      "metadata": {
        "id": "krlNPLnhGJQV",
        "colab_type": "code",
        "colab": {}
      },
      "source": [
        "model = Sequential()\n",
        "model.add(Embedding(len(word_index)+1,embed_size,weights=[embedding_matrix], input_length=maxlen,trainable=False))\n",
        "model.add(SpatialDropout1D(0.2))\n",
        "model.add(LSTM(100, recurrent_dropout=0.2,return_sequences=True))\n",
        "model.add(GlobalMaxPooling1D())\n",
        "model.add(Dense(50, activation=\"relu\"))\n",
        "model.add(Dropout(0.2))\n",
        "model.add(Dense(6, activation='sigmoid'))"
      ],
      "execution_count": null,
      "outputs": []
    },
    {
      "cell_type": "code",
      "metadata": {
        "id": "fDqR8ZRsGLsH",
        "colab_type": "code",
        "colab": {
          "base_uri": "https://localhost:8080/",
          "height": 88
        },
        "outputId": "15140140-fb32-4d7c-eb77-877d6e3cdc8f"
      },
      "source": [
        "model.compile(loss = 'binary_crossentropy',\n",
        "             optimizer='adam')"
      ],
      "execution_count": null,
      "outputs": [
        {
          "output_type": "stream",
          "text": [
            "WARNING:tensorflow:From /usr/local/lib/python3.6/dist-packages/tensorflow/python/ops/nn_impl.py:180: add_dispatch_support.<locals>.wrapper (from tensorflow.python.ops.array_ops) is deprecated and will be removed in a future version.\n",
            "Instructions for updating:\n",
            "Use tf.where in 2.0, which has the same broadcast rule as np.where\n"
          ],
          "name": "stdout"
        }
      ]
    },
    {
      "cell_type": "code",
      "metadata": {
        "id": "gRi3X43mGlbC",
        "colab_type": "code",
        "colab": {
          "base_uri": "https://localhost:8080/",
          "height": 204
        },
        "outputId": "f554913c-5e2a-48af-87bf-f5f47429cc4e"
      },
      "source": [
        "history = model.fit(X_train, y_train, epochs = 5, batch_size=128, class_weight='balanced',validation_data=(X_test, y_test))"
      ],
      "execution_count": null,
      "outputs": [
        {
          "output_type": "stream",
          "text": [
            "Train on 12978 samples, validate on 3245 samples\n",
            "Epoch 1/5\n",
            "12978/12978 [==============================] - 66s 5ms/step - loss: 0.2571 - val_loss: 0.2717\n",
            "Epoch 2/5\n",
            "12978/12978 [==============================] - 66s 5ms/step - loss: 0.2540 - val_loss: 0.2697\n",
            "Epoch 3/5\n",
            "12978/12978 [==============================] - 67s 5ms/step - loss: 0.2485 - val_loss: 0.2693\n",
            "Epoch 4/5\n",
            "12978/12978 [==============================] - 66s 5ms/step - loss: 0.2454 - val_loss: 0.2709\n",
            "Epoch 5/5\n",
            "12978/12978 [==============================] - 66s 5ms/step - loss: 0.2425 - val_loss: 0.2727\n"
          ],
          "name": "stdout"
        }
      ]
    },
    {
      "cell_type": "code",
      "metadata": {
        "id": "9bto3HyqGpT9",
        "colab_type": "code",
        "colab": {}
      },
      "source": [
        "model.save('Toxic_LSTM.h5')"
      ],
      "execution_count": null,
      "outputs": []
    },
    {
      "cell_type": "code",
      "metadata": {
        "id": "mtRSNkRbK7Fp",
        "colab_type": "code",
        "colab": {}
      },
      "source": [
        "from keras.callbacks import Callback\n",
        "from sklearn.metrics import roc_auc_score\n",
        "\n",
        "class RocAucEvaluation(Callback):\n",
        "  def __init__(self, validation_data=(), interval=1):\n",
        "    super(Callback, self).__init__()\n",
        "    self.interval = interval\n",
        "    self.X_val, self.y_val = validation_data\n",
        "\n",
        "  def on_epoch_end(self, epoch, logs={}):\n",
        "    if epoch % self.interval == 0:\n",
        "      y_pred = self.model.predict(self.X_val, verbose=0)\n",
        "      score = roc_auc_score(self.y_val, y_pred)\n",
        "      print(\"\\n ROC-AUC - epoch: %d - score: %.6f \\n\" % (epoch+1, score))\n",
        "\n"
      ],
      "execution_count": null,
      "outputs": []
    },
    {
      "cell_type": "code",
      "metadata": {
        "id": "wGsM4NUMLM-Y",
        "colab_type": "code",
        "colab": {}
      },
      "source": [
        "RocAuc = RocAucEvaluation(validation_data=(X_test, y_test), interval=1)\n"
      ],
      "execution_count": null,
      "outputs": []
    },
    {
      "cell_type": "code",
      "metadata": {
        "id": "TCDCbVDqLTXF",
        "colab_type": "code",
        "colab": {
          "base_uri": "https://localhost:8080/",
          "height": 375
        },
        "outputId": "a28dd0e0-0173-48ad-a54b-fbbdab2aaca1"
      },
      "source": [
        "model.fit(X_train,y_train, batch_size=32, epochs=1, validation_data=(X_test, y_test),callbacks=[RocAuc], verbose=1)\n"
      ],
      "execution_count": null,
      "outputs": [
        {
          "output_type": "stream",
          "text": [
            "Train on 12978 samples, validate on 3245 samples\n",
            "Epoch 1/1\n",
            "12978/12978 [==============================] - 95s 7ms/step - loss: 0.2481 - val_loss: 0.2710\n"
          ],
          "name": "stdout"
        },
        {
          "output_type": "error",
          "ename": "NameError",
          "evalue": "ignored",
          "traceback": [
            "\u001b[0;31m---------------------------------------------------------------------------\u001b[0m",
            "\u001b[0;31mNameError\u001b[0m                                 Traceback (most recent call last)",
            "\u001b[0;32m<ipython-input-151-72f351ce4bfb>\u001b[0m in \u001b[0;36m<module>\u001b[0;34m()\u001b[0m\n\u001b[0;32m----> 1\u001b[0;31m \u001b[0mmodel\u001b[0m\u001b[0;34m.\u001b[0m\u001b[0mfit\u001b[0m\u001b[0;34m(\u001b[0m\u001b[0mX_train\u001b[0m\u001b[0;34m,\u001b[0m\u001b[0my_train\u001b[0m\u001b[0;34m,\u001b[0m \u001b[0mbatch_size\u001b[0m\u001b[0;34m=\u001b[0m\u001b[0;36m32\u001b[0m\u001b[0;34m,\u001b[0m \u001b[0mepochs\u001b[0m\u001b[0;34m=\u001b[0m\u001b[0;36m1\u001b[0m\u001b[0;34m,\u001b[0m \u001b[0mvalidation_data\u001b[0m\u001b[0;34m=\u001b[0m\u001b[0;34m(\u001b[0m\u001b[0mX_test\u001b[0m\u001b[0;34m,\u001b[0m \u001b[0my_test\u001b[0m\u001b[0;34m)\u001b[0m\u001b[0;34m,\u001b[0m\u001b[0mcallbacks\u001b[0m\u001b[0;34m=\u001b[0m\u001b[0;34m[\u001b[0m\u001b[0mRocAuc\u001b[0m\u001b[0;34m]\u001b[0m\u001b[0;34m,\u001b[0m \u001b[0mverbose\u001b[0m\u001b[0;34m=\u001b[0m\u001b[0;36m1\u001b[0m\u001b[0;34m)\u001b[0m\u001b[0;34m\u001b[0m\u001b[0;34m\u001b[0m\u001b[0m\n\u001b[0m",
            "\u001b[0;32m/usr/local/lib/python3.6/dist-packages/keras/engine/training.py\u001b[0m in \u001b[0;36mfit\u001b[0;34m(self, x, y, batch_size, epochs, verbose, callbacks, validation_split, validation_data, shuffle, class_weight, sample_weight, initial_epoch, steps_per_epoch, validation_steps, validation_freq, max_queue_size, workers, use_multiprocessing, **kwargs)\u001b[0m\n\u001b[1;32m   1237\u001b[0m                                         \u001b[0msteps_per_epoch\u001b[0m\u001b[0;34m=\u001b[0m\u001b[0msteps_per_epoch\u001b[0m\u001b[0;34m,\u001b[0m\u001b[0;34m\u001b[0m\u001b[0;34m\u001b[0m\u001b[0m\n\u001b[1;32m   1238\u001b[0m                                         \u001b[0mvalidation_steps\u001b[0m\u001b[0;34m=\u001b[0m\u001b[0mvalidation_steps\u001b[0m\u001b[0;34m,\u001b[0m\u001b[0;34m\u001b[0m\u001b[0;34m\u001b[0m\u001b[0m\n\u001b[0;32m-> 1239\u001b[0;31m                                         validation_freq=validation_freq)\n\u001b[0m\u001b[1;32m   1240\u001b[0m \u001b[0;34m\u001b[0m\u001b[0m\n\u001b[1;32m   1241\u001b[0m     def evaluate(self,\n",
            "\u001b[0;32m/usr/local/lib/python3.6/dist-packages/keras/engine/training_arrays.py\u001b[0m in \u001b[0;36mfit_loop\u001b[0;34m(model, fit_function, fit_inputs, out_labels, batch_size, epochs, verbose, callbacks, val_function, val_inputs, shuffle, initial_epoch, steps_per_epoch, validation_steps, validation_freq)\u001b[0m\n\u001b[1;32m    214\u001b[0m                         \u001b[0mepoch_logs\u001b[0m\u001b[0;34m[\u001b[0m\u001b[0;34m'val_'\u001b[0m \u001b[0;34m+\u001b[0m \u001b[0ml\u001b[0m\u001b[0;34m]\u001b[0m \u001b[0;34m=\u001b[0m \u001b[0mo\u001b[0m\u001b[0;34m\u001b[0m\u001b[0;34m\u001b[0m\u001b[0m\n\u001b[1;32m    215\u001b[0m \u001b[0;34m\u001b[0m\u001b[0m\n\u001b[0;32m--> 216\u001b[0;31m         \u001b[0mcallbacks\u001b[0m\u001b[0;34m.\u001b[0m\u001b[0mon_epoch_end\u001b[0m\u001b[0;34m(\u001b[0m\u001b[0mepoch\u001b[0m\u001b[0;34m,\u001b[0m \u001b[0mepoch_logs\u001b[0m\u001b[0;34m)\u001b[0m\u001b[0;34m\u001b[0m\u001b[0;34m\u001b[0m\u001b[0m\n\u001b[0m\u001b[1;32m    217\u001b[0m         \u001b[0;32mif\u001b[0m \u001b[0mcallbacks\u001b[0m\u001b[0;34m.\u001b[0m\u001b[0mmodel\u001b[0m\u001b[0;34m.\u001b[0m\u001b[0mstop_training\u001b[0m\u001b[0;34m:\u001b[0m\u001b[0;34m\u001b[0m\u001b[0;34m\u001b[0m\u001b[0m\n\u001b[1;32m    218\u001b[0m             \u001b[0;32mbreak\u001b[0m\u001b[0;34m\u001b[0m\u001b[0;34m\u001b[0m\u001b[0m\n",
            "\u001b[0;32m/usr/local/lib/python3.6/dist-packages/keras/callbacks/callbacks.py\u001b[0m in \u001b[0;36mon_epoch_end\u001b[0;34m(self, epoch, logs)\u001b[0m\n\u001b[1;32m    150\u001b[0m         \u001b[0mlogs\u001b[0m \u001b[0;34m=\u001b[0m \u001b[0mlogs\u001b[0m \u001b[0;32mor\u001b[0m \u001b[0;34m{\u001b[0m\u001b[0;34m}\u001b[0m\u001b[0;34m\u001b[0m\u001b[0;34m\u001b[0m\u001b[0m\n\u001b[1;32m    151\u001b[0m         \u001b[0;32mfor\u001b[0m \u001b[0mcallback\u001b[0m \u001b[0;32min\u001b[0m \u001b[0mself\u001b[0m\u001b[0;34m.\u001b[0m\u001b[0mcallbacks\u001b[0m\u001b[0;34m:\u001b[0m\u001b[0;34m\u001b[0m\u001b[0;34m\u001b[0m\u001b[0m\n\u001b[0;32m--> 152\u001b[0;31m             \u001b[0mcallback\u001b[0m\u001b[0;34m.\u001b[0m\u001b[0mon_epoch_end\u001b[0m\u001b[0;34m(\u001b[0m\u001b[0mepoch\u001b[0m\u001b[0;34m,\u001b[0m \u001b[0mlogs\u001b[0m\u001b[0;34m)\u001b[0m\u001b[0;34m\u001b[0m\u001b[0;34m\u001b[0m\u001b[0m\n\u001b[0m\u001b[1;32m    153\u001b[0m \u001b[0;34m\u001b[0m\u001b[0m\n\u001b[1;32m    154\u001b[0m     \u001b[0;32mdef\u001b[0m \u001b[0mon_train_batch_begin\u001b[0m\u001b[0;34m(\u001b[0m\u001b[0mself\u001b[0m\u001b[0;34m,\u001b[0m \u001b[0mbatch\u001b[0m\u001b[0;34m,\u001b[0m \u001b[0mlogs\u001b[0m\u001b[0;34m=\u001b[0m\u001b[0;32mNone\u001b[0m\u001b[0;34m)\u001b[0m\u001b[0;34m:\u001b[0m\u001b[0;34m\u001b[0m\u001b[0;34m\u001b[0m\u001b[0m\n",
            "\u001b[0;32m<ipython-input-148-f3e4038b6e16>\u001b[0m in \u001b[0;36mon_epoch_end\u001b[0;34m(self, epoch, logs)\u001b[0m\n\u001b[1;32m     10\u001b[0m     \u001b[0;32mif\u001b[0m \u001b[0mepoch\u001b[0m \u001b[0;34m%\u001b[0m \u001b[0mself\u001b[0m\u001b[0;34m.\u001b[0m\u001b[0minterval\u001b[0m \u001b[0;34m==\u001b[0m \u001b[0;36m0\u001b[0m\u001b[0;34m:\u001b[0m\u001b[0;34m\u001b[0m\u001b[0;34m\u001b[0m\u001b[0m\n\u001b[1;32m     11\u001b[0m       \u001b[0my_pred\u001b[0m \u001b[0;34m=\u001b[0m \u001b[0mself\u001b[0m\u001b[0;34m.\u001b[0m\u001b[0mmodel\u001b[0m\u001b[0;34m.\u001b[0m\u001b[0mpredict\u001b[0m\u001b[0;34m(\u001b[0m\u001b[0mself\u001b[0m\u001b[0;34m.\u001b[0m\u001b[0mX_val\u001b[0m\u001b[0;34m,\u001b[0m \u001b[0mverbose\u001b[0m\u001b[0;34m=\u001b[0m\u001b[0;36m0\u001b[0m\u001b[0;34m)\u001b[0m\u001b[0;34m\u001b[0m\u001b[0;34m\u001b[0m\u001b[0m\n\u001b[0;32m---> 12\u001b[0;31m       \u001b[0mscore\u001b[0m \u001b[0;34m=\u001b[0m \u001b[0mroc_auc_score\u001b[0m\u001b[0;34m(\u001b[0m\u001b[0mself\u001b[0m\u001b[0;34m.\u001b[0m\u001b[0my_val\u001b[0m\u001b[0;34m,\u001b[0m \u001b[0my_pred\u001b[0m\u001b[0;34m)\u001b[0m\u001b[0;34m\u001b[0m\u001b[0;34m\u001b[0m\u001b[0m\n\u001b[0m\u001b[1;32m     13\u001b[0m       \u001b[0mprint\u001b[0m\u001b[0;34m(\u001b[0m\u001b[0;34m\"\\n ROC-AUC - epoch: %d - score: %.6f \\n\"\u001b[0m \u001b[0;34m%\u001b[0m \u001b[0;34m(\u001b[0m\u001b[0mepoch\u001b[0m\u001b[0;34m+\u001b[0m\u001b[0;36m1\u001b[0m\u001b[0;34m,\u001b[0m \u001b[0mscore\u001b[0m\u001b[0;34m)\u001b[0m\u001b[0;34m)\u001b[0m\u001b[0;34m\u001b[0m\u001b[0;34m\u001b[0m\u001b[0m\n\u001b[1;32m     14\u001b[0m \u001b[0;34m\u001b[0m\u001b[0m\n",
            "\u001b[0;31mNameError\u001b[0m: name 'roc_auc_score' is not defined"
          ]
        }
      ]
    },
    {
      "cell_type": "code",
      "metadata": {
        "id": "UkdRqvUiLij9",
        "colab_type": "code",
        "colab": {}
      },
      "source": [
        "from sklearn import metrics\n",
        "from sklearn.metrics import hamming_loss\n",
        "from sklearn.metrics import log_loss\n",
        "from sklearn.metrics import average_precision_score,roc_curve,auc\n",
        "from sklearn.metrics import multilabel_confusion_matrix\n",
        "from sklearn.metrics import precision_score,recall_score,f1_score"
      ],
      "execution_count": null,
      "outputs": []
    },
    {
      "cell_type": "code",
      "metadata": {
        "id": "V2C_hDA2LplJ",
        "colab_type": "code",
        "colab": {}
      },
      "source": [
        "predictions=model.predict_proba(X_test)\n"
      ],
      "execution_count": null,
      "outputs": []
    },
    {
      "cell_type": "code",
      "metadata": {
        "id": "6b8df6xAQF_g",
        "colab_type": "code",
        "colab": {}
      },
      "source": [
        "train_pred = model.predict_proba(X_train)"
      ],
      "execution_count": null,
      "outputs": []
    },
    {
      "cell_type": "code",
      "metadata": {
        "id": "ORSVXTm_ME9g",
        "colab_type": "code",
        "colab": {
          "base_uri": "https://localhost:8080/",
          "height": 238
        },
        "outputId": "4337f81c-676b-4d1c-ad20-db982139166a"
      },
      "source": [
        "predictions"
      ],
      "execution_count": null,
      "outputs": [
        {
          "output_type": "execute_result",
          "data": {
            "text/plain": [
              "array([[9.4003028e-01, 3.5655200e-02, 7.5842285e-01, 1.4842451e-03,\n",
              "        7.4848896e-01, 1.3904622e-01],\n",
              "       [8.5065734e-01, 1.4609694e-03, 1.4103639e-01, 9.5951557e-04,\n",
              "        1.4645073e-01, 4.7702789e-03],\n",
              "       [9.6324861e-01, 2.1892399e-02, 2.2281298e-01, 3.8624108e-03,\n",
              "        2.3156306e-01, 3.6276221e-02],\n",
              "       ...,\n",
              "       [8.4748280e-01, 4.2831302e-03, 1.6115099e-01, 3.6471188e-03,\n",
              "        2.0259029e-01, 8.3756149e-03],\n",
              "       [9.4881213e-01, 8.2111359e-04, 7.1919411e-02, 4.4235587e-04,\n",
              "        4.2083827e-01, 1.4503002e-03],\n",
              "       [8.5014522e-01, 1.6406820e-03, 7.9332031e-02, 9.4406126e-04,\n",
              "        2.8802517e-01, 1.4036953e-02]], dtype=float32)"
            ]
          },
          "metadata": {
            "tags": []
          },
          "execution_count": 162
        }
      ]
    },
    {
      "cell_type": "code",
      "metadata": {
        "id": "lcVBPIGMNAAS",
        "colab_type": "code",
        "colab": {
          "base_uri": "https://localhost:8080/",
          "height": 34
        },
        "outputId": "00b194c2-2510-441d-d89a-edbf4376913b"
      },
      "source": [
        "loss = log_loss(y_test,predictions)\n",
        "print(\"Log_loss : {}\".format(loss))"
      ],
      "execution_count": null,
      "outputs": [
        {
          "output_type": "stream",
          "text": [
            "Log_loss : 2.687748579339961\n"
          ],
          "name": "stdout"
        }
      ]
    },
    {
      "cell_type": "code",
      "metadata": {
        "id": "e1G6jfEINGJR",
        "colab_type": "code",
        "colab": {}
      },
      "source": [
        "predictions = np.round(predictions)"
      ],
      "execution_count": null,
      "outputs": []
    },
    {
      "cell_type": "code",
      "metadata": {
        "id": "bpXBnDAEQMl5",
        "colab_type": "code",
        "colab": {}
      },
      "source": [
        "train_pred = np.round(train_pred)"
      ],
      "execution_count": null,
      "outputs": []
    },
    {
      "cell_type": "code",
      "metadata": {
        "id": "jycLqnVqNF31",
        "colab_type": "code",
        "colab": {
          "base_uri": "https://localhost:8080/",
          "height": 34
        },
        "outputId": "fcc221de-eaee-4803-d5dd-eda7d2befcd9"
      },
      "source": [
        "h_loss = hamming_loss(y_test,predictions)\n",
        "print(\"Hamming_loss : {}\".format(h_loss*100))"
      ],
      "execution_count": null,
      "outputs": [
        {
          "output_type": "stream",
          "text": [
            "Hamming_loss : 11.535695942475604\n"
          ],
          "name": "stdout"
        }
      ]
    },
    {
      "cell_type": "code",
      "metadata": {
        "id": "W7YqPaW7NTJJ",
        "colab_type": "code",
        "colab": {
          "base_uri": "https://localhost:8080/",
          "height": 68
        },
        "outputId": "4eef4da1-ac9a-4e07-fd01-9b179e16d40e"
      },
      "source": [
        "precision = precision_score(y_test,predictions,average='micro')\n",
        "print(\"Precision: {}\".format(precision))\n",
        "recall = recall_score(y_test,predictions,average='micro')\n",
        "print(\"Recall : {}\".format(recall))\n",
        "f1_score = f1_score(y_test,predictions,average='micro')\n",
        "print(\"F1-score : {}\".format(f1_score))\n"
      ],
      "execution_count": null,
      "outputs": [
        {
          "output_type": "stream",
          "text": [
            "Precision: 0.8655015197568389\n",
            "Recall : 0.8071145124716553\n",
            "F1-score : 0.8352889410384277\n"
          ],
          "name": "stdout"
        }
      ]
    },
    {
      "cell_type": "code",
      "metadata": {
        "id": "Ek-dmVx2KtAS",
        "colab_type": "code",
        "colab": {}
      },
      "source": [
        "ml_cm = multilabel_confusion_matrix(y_test, predictions)"
      ],
      "execution_count": null,
      "outputs": []
    },
    {
      "cell_type": "code",
      "metadata": {
        "id": "55bA78TuPkYl",
        "colab_type": "code",
        "colab": {
          "base_uri": "https://localhost:8080/",
          "height": 306
        },
        "outputId": "bfb3004c-c81b-4880-b7fd-b9c601e41082"
      },
      "source": [
        "ml_cm"
      ],
      "execution_count": null,
      "outputs": [
        {
          "output_type": "execute_result",
          "data": {
            "text/plain": [
              "array([[[   0,  208],\n",
              "        [   0, 3037]],\n",
              "\n",
              "       [[2891,   51],\n",
              "        [ 227,   76]],\n",
              "\n",
              "       [[1280,  239],\n",
              "        [ 368, 1358]],\n",
              "\n",
              "       [[3133,    5],\n",
              "        [  96,   11]],\n",
              "\n",
              "       [[1315,  320],\n",
              "        [ 522, 1088]],\n",
              "\n",
              "       [[2910,   62],\n",
              "        [ 148,  125]]])"
            ]
          },
          "metadata": {
            "tags": []
          },
          "execution_count": 173
        }
      ]
    },
    {
      "cell_type": "code",
      "metadata": {
        "id": "3e6z18vdP3mi",
        "colab_type": "code",
        "colab": {
          "base_uri": "https://localhost:8080/",
          "height": 136
        },
        "outputId": "a7a4a7be-f4aa-4ae9-9da7-ccda9bbedf85"
      },
      "source": [
        "AUC=np.zeros((2,6))\n",
        "\n",
        "for i,x in enumerate(classes):\n",
        "  auc = np.array([metrics.roc_auc_score(y_train[:,i], train_pred[:,i]),\n",
        "                  metrics.roc_auc_score(y_test[:,i], predictions[:,i])])\n",
        "  print(x,\"Train AUC:\",auc[0],\", Test AUC:\",auc[1])\n",
        "  AUC[:,i] = auc\n",
        "    \n",
        "avg_auc = AUC.mean(axis=1)\n",
        "print(\"Average Train AUC:\",avg_auc[0],\", Average Test AUC:\",avg_auc[1])"
      ],
      "execution_count": null,
      "outputs": [
        {
          "output_type": "stream",
          "text": [
            "toxic Train AUC: 0.5 , Test AUC: 0.5\n",
            "severe_toxic Train AUC: 0.6335874500407728 , Test AUC: 0.6167449681745876\n",
            "obscene Train AUC: 0.8728562442596018 , Test AUC: 0.8147249555075647\n",
            "threat Train AUC: 0.5721020517202933 , Test AUC: 0.5506051833717529\n",
            "insult Train AUC: 0.7969195931849068 , Test AUC: 0.7400288715406387\n",
            "identity_hate Train AUC: 0.735056532329799 , Test AUC: 0.7185070425312686\n",
            "Average Train AUC: 0.6850869785892288 , Average Test AUC: 0.6567685035209687\n"
          ],
          "name": "stdout"
        }
      ]
    },
    {
      "cell_type": "code",
      "metadata": {
        "id": "9sO61M7SQqHY",
        "colab_type": "code",
        "colab": {
          "base_uri": "https://localhost:8080/",
          "height": 332
        },
        "outputId": "976ec65e-0e4e-41a6-b37d-bb72757131e9"
      },
      "source": [
        "from sklearn import metrics\n",
        "import numpy as np\n",
        "from scipy import interp\n",
        "import matplotlib.pyplot as plt\n",
        "from itertools import cycle\n",
        "from sklearn.metrics import roc_curve, auc\n",
        "lw = 2\n",
        "n_classes = 6\n",
        "\n",
        "# Compute ROC curve and ROC area for each class\n",
        "fpr = dict()\n",
        "tpr = dict()\n",
        "roc_auc = dict()\n",
        "for i in range(n_classes):\n",
        "  fpr[i], tpr[i], _ = roc_curve(y_test[:, i], predictions[:, i])\n",
        "  roc_auc[i] = auc(fpr[i], tpr[i])\n",
        "\n",
        "# Compute micro-average ROC curve and ROC area\n",
        "fpr[\"micro\"], tpr[\"micro\"], _ = roc_curve(y_test.ravel(), predictions.ravel())\n",
        "roc_auc[\"micro\"] = auc(fpr[\"micro\"], tpr[\"micro\"])\n",
        "\n",
        "# Compute macro-average ROC curve and ROC area\n",
        "\n",
        "# First aggregate all false positive rates\n",
        "all_fpr = np.unique(np.concatenate([fpr[i] for i in range(n_classes)]))\n",
        "\n",
        "# Then interpolate all ROC curves at this points\n",
        "mean_tpr = np.zeros_like(all_fpr)\n",
        "for i in range(n_classes):\n",
        "  mean_tpr += interp(all_fpr, fpr[i], tpr[i])\n",
        "\n",
        "# Finally average it and compute AUC\n",
        "mean_tpr /= n_classes\n",
        "\n",
        "fpr[\"macro\"] = all_fpr\n",
        "tpr[\"macro\"] = mean_tpr\n",
        "roc_auc[\"macro\"] = auc(fpr[\"macro\"], tpr[\"macro\"])\n",
        "\n",
        "# Plot all ROC curves\n",
        "plt.figure(1)\n",
        "plt.plot(fpr[\"micro\"], tpr[\"micro\"],label='micro-average ROC curve (area = {0:0.2f})'''.format(roc_auc[\"micro\"]),color='deeppink', linestyle=':', linewidth=4)\n",
        "\n",
        "plt.plot(fpr[\"macro\"], tpr[\"macro\"],label='macro-average ROC curve (area = {0:0.2f})'''.format(roc_auc[\"macro\"]),color='navy', linestyle=':', linewidth=4)\n",
        "\n",
        "colors = cycle(['blue','green','red','yellow','cyan','magenta'])\n",
        "for i, color in zip(range(n_classes), colors):\n",
        "  plt.plot(fpr[i], tpr[i], color=color, lw=lw,\n",
        "           label='ROC curve of class {0} (area = {1:0.2f})'\n",
        "           ''.format(i, roc_auc[i]))\n",
        "\n",
        "plt.plot([0, 1], [0, 1], 'k--', lw=lw)\n",
        "plt.xlim([0.0, 1.0])\n",
        "plt.ylim([0.0, 1.05])\n",
        "plt.xlabel('False Positive Rate')\n",
        "plt.ylabel('True Positive Rate')\n",
        "plt.title('Some extension of Receiver operating characteristic to multi-class')\n",
        "plt.legend(loc=\"lower right\")\n",
        "plt.show()\n"
      ],
      "execution_count": null,
      "outputs": [
        {
          "output_type": "stream",
          "text": [
            "/usr/local/lib/python3.6/dist-packages/ipykernel_launcher.py:30: DeprecationWarning: scipy.interp is deprecated and will be removed in SciPy 2.0.0, use numpy.interp instead\n"
          ],
          "name": "stderr"
        },
        {
          "output_type": "display_data",
          "data": {
            "image/png": "[encoded data removed]",
            "text/plain": [
              "<Figure size 432x288 with 1 Axes>"
            ]
          },
          "metadata": {
            "tags": [],
            "needs_background": "light"
          }
        }
      ]
    },
    {
      "cell_type": "code",
      "metadata": {
        "id": "u0RqSQ4oSJLx",
        "colab_type": "code",
        "colab": {
          "base_uri": "https://localhost:8080/",
          "height": 153
        },
        "outputId": "dc951d4f-0fef-4311-e44b-bf86bf4ecc9a"
      },
      "source": [
        "def predict_toxicity(comment):\n",
        "    comment = clean_text(comment)\n",
        "    sequences = tokenizer.texts_to_sequences([comment])\n",
        "    pad_seq = pad_sequences(sequences, maxlen=maxlen)\n",
        "    pred = model.predict_proba(pad_seq)\n",
        "    return pred\n",
        "\n",
        "import random\n",
        "sample_text = random.choice(data[[\"comment_text\",\"toxic\", \"severe_toxic\", \"obscene\", \"threat\", \"insult\", \"identity_hate\"]].values.tolist())\n",
        "prediction= predict_toxicity(\"He is so dumb and disgraceful\")\n",
        "\n",
        "\n",
        "# Print output\n",
        "print(\"Toxicity levels for '{}':\".format(sample_text[0]))\n",
        "print('Toxic:         {:.0%}'.format(prediction[0][0]))\n",
        "print('Severe Toxic:  {:.0%}'.format(prediction[0][1]))\n",
        "print('Obscene:       {:.0%}'.format(prediction[0][2]))\n",
        "print('Threat:        {:.0%}'.format(prediction[0][3]))\n",
        "print('Insult:        {:.0%}'.format(prediction[0][4]))\n",
        "print('Identity Hate: {:.0%}'.format(prediction[0][5]))\n",
        "print()  \n",
        "\n"
      ],
      "execution_count": null,
      "outputs": [
        {
          "output_type": "stream",
          "text": [
            "Toxicity levels for 'yes image dog lick ball come mind talk':\n",
            "Toxic:         99%\n",
            "Severe Toxic:  1%\n",
            "Obscene:       15%\n",
            "Threat:        0%\n",
            "Insult:        61%\n",
            "Identity Hate: 1%\n",
            "\n"
          ],
          "name": "stdout"
        }
      ]
    },
    {
      "cell_type": "code",
      "metadata": {
        "id": "OH32obhsIF4d",
        "colab_type": "code",
        "colab": {}
      },
      "source": [
        "from keras.layers import Bidirectional,GRU,GlobalAveragePooling1D\n"
      ],
      "execution_count": null,
      "outputs": []
    },
    {
      "cell_type": "code",
      "metadata": {
        "id": "VIzU-NyoKPHz",
        "colab_type": "code",
        "colab": {}
      },
      "source": [
        "import keras.backend as K\n",
        "def precision(y_true, y_pred):\n",
        "  true_positives = K.sum(K.round(K.clip(y_true * y_pred, 0, 1)))\n",
        "  predicted_positives = K.sum(K.round(K.clip(y_pred, 0, 1)))\n",
        "  precision = true_positives / (predicted_positives + K.epsilon())\n",
        "  return precision\n",
        "\n",
        "def recall(y_true, y_pred):\n",
        "  true_positives = K.sum(K.round(K.clip(y_true * y_pred, 0, 1)))\n",
        "  possible_positives = K.sum(K.round(K.clip(y_true, 0, 1)))\n",
        "  recall = true_positives / (possible_positives + K.epsilon())\n",
        "  return recall\n",
        "\n",
        "def fbeta_score(y_true, y_pred, beta=1):\n",
        "  if beta < 0:\n",
        "    raise ValueError('The lowest choosable beta is zero (only precision).')\n",
        "\n",
        "# If there are no true positives, fix the F score at 0 like sklearn.\n",
        "  if K.sum(K.round(K.clip(y_true, 0, 1))) == 0:\n",
        "    return 0\n",
        "\n",
        "  p = precision(y_true, y_pred)\n",
        "  r = recall(y_true, y_pred)\n",
        "  bb = beta ** 2\n",
        "  fbeta_score = (1 + bb) * (p * r) / (bb * p + r + K.epsilon())\n",
        "  return fbeta_score\n",
        "\n",
        "def fmeasure(y_true, y_pred):\n",
        "  return fbeta_score(y_true, y_pred, beta=1)"
      ],
      "execution_count": null,
      "outputs": []
    },
    {
      "cell_type": "code",
      "metadata": {
        "id": "2gSLCQvfIKFO",
        "colab_type": "code",
        "colab": {}
      },
      "source": [
        "model = Sequential()\n",
        "model.add(Embedding(len(word_index)+1,embed_size,weights=[embedding_matrix], input_length=maxlen,trainable=False))\n",
        "model.add(SpatialDropout1D(0.2))\n",
        "model.add(Bidirectional(LSTM(100, return_sequences=True)))\n",
        "model.add(Dropout(0.2))\n",
        "model.add(Conv1D(64, 5, activation='relu'))\n",
        "model.add(Dropout(0.3))\n",
        "model.add(GlobalMaxPooling1D())\n",
        "model.add(Dense(64, activation='relu'))\n",
        "model.add(Dropout(0.3))\n",
        "model.add(Dense(6, activation='sigmoid'))"
      ],
      "execution_count": null,
      "outputs": []
    },
    {
      "cell_type": "code",
      "metadata": {
        "id": "mNluyOqbKAsI",
        "colab_type": "code",
        "colab": {}
      },
      "source": [
        "model.compile(loss = 'binary_crossentropy',optimizer='adam')"
      ],
      "execution_count": null,
      "outputs": []
    },
    {
      "cell_type": "code",
      "metadata": {
        "id": "16sdbjeqKC5w",
        "colab_type": "code",
        "colab": {
          "base_uri": "https://localhost:8080/",
          "height": 204
        },
        "outputId": "74b50144-06a9-4028-fd65-18c8d1c30208"
      },
      "source": [
        "history = model.fit(X_train, y_train, epochs = 5, batch_size=128, class_weight='balanced',validation_data=(X_test, y_test))"
      ],
      "execution_count": null,
      "outputs": [
        {
          "output_type": "stream",
          "text": [
            "Train on 12978 samples, validate on 3245 samples\n",
            "Epoch 1/5\n",
            "12978/12978 [==============================] - 128s 10ms/step - loss: 0.2487 - val_loss: 0.2757\n",
            "Epoch 2/5\n",
            "12978/12978 [==============================] - 126s 10ms/step - loss: 0.2412 - val_loss: 0.2697\n",
            "Epoch 3/5\n",
            "12978/12978 [==============================] - 126s 10ms/step - loss: 0.2379 - val_loss: 0.2766\n",
            "Epoch 4/5\n",
            "12978/12978 [==============================] - 125s 10ms/step - loss: 0.2324 - val_loss: 0.2669\n",
            "Epoch 5/5\n",
            "12978/12978 [==============================] - 126s 10ms/step - loss: 0.2277 - val_loss: 0.2696\n"
          ],
          "name": "stdout"
        }
      ]
    },
    {
      "cell_type": "code",
      "metadata": {
        "id": "bMpJvZkGlY0q",
        "colab_type": "code",
        "colab": {}
      },
      "source": [
        ""
      ],
      "execution_count": null,
      "outputs": []
    },
    {
      "cell_type": "code",
      "metadata": {
        "id": "89eKtMVhmv64",
        "colab_type": "code",
        "colab": {}
      },
      "source": [
        "model.save('BiLSTMCNN_toxic.h5')"
      ],
      "execution_count": null,
      "outputs": []
    },
    {
      "cell_type": "code",
      "metadata": {
        "id": "By0_OATDskwE",
        "colab_type": "code",
        "colab": {}
      },
      "source": [
        "predictions=model.predict_proba(X_test)\n"
      ],
      "execution_count": null,
      "outputs": []
    },
    {
      "cell_type": "code",
      "metadata": {
        "id": "ozrsTDdiyRxS",
        "colab_type": "code",
        "colab": {}
      },
      "source": [
        "train_pred = model.predict_proba(X_train)"
      ],
      "execution_count": null,
      "outputs": []
    },
    {
      "cell_type": "code",
      "metadata": {
        "id": "wcVlnbobyYGi",
        "colab_type": "code",
        "colab": {
          "base_uri": "https://localhost:8080/",
          "height": 34
        },
        "outputId": "396f0437-d2bb-4021-ad7b-d3491cf28072"
      },
      "source": [
        "loss = log_loss(y_test,predictions)\n",
        "print(\"Log_loss : {}\".format(loss))"
      ],
      "execution_count": null,
      "outputs": [
        {
          "output_type": "stream",
          "text": [
            "Log_loss : 2.6327400536653807\n"
          ],
          "name": "stdout"
        }
      ]
    },
    {
      "cell_type": "code",
      "metadata": {
        "id": "IUQ0R30Ryfcz",
        "colab_type": "code",
        "colab": {}
      },
      "source": [
        "predictions = np.round(predictions)\n",
        "train_pred = np.round(train_pred)"
      ],
      "execution_count": null,
      "outputs": []
    },
    {
      "cell_type": "code",
      "metadata": {
        "id": "Z8WJXUT8yoWj",
        "colab_type": "code",
        "colab": {
          "base_uri": "https://localhost:8080/",
          "height": 34
        },
        "outputId": "0fa25c3c-6ab9-4e30-f0d7-220ec8f514aa"
      },
      "source": [
        "h_loss = hamming_loss(y_test,predictions)\n",
        "print(\"Hamming_loss : {}\".format(h_loss*100))"
      ],
      "execution_count": null,
      "outputs": [
        {
          "output_type": "stream",
          "text": [
            "Hamming_loss : 11.340523882896763\n"
          ],
          "name": "stdout"
        }
      ]
    },
    {
      "cell_type": "code",
      "metadata": {
        "id": "pJbWiyEZyxpV",
        "colab_type": "code",
        "colab": {
          "base_uri": "https://localhost:8080/",
          "height": 68
        },
        "outputId": "35a8d141-79fc-4b90-a85e-fac8dd5079a7"
      },
      "source": [
        "precision = precision_score(y_test,predictions,average='micro')\n",
        "print(\"Precision: {}\".format(precision))\n",
        "recall = recall_score(y_test,predictions,average='micro')\n",
        "print(\"Recall : {}\".format(recall))\n",
        "f1_score = f1_score(y_test,predictions,average='micro')\n",
        "print(\"F1-score : {}\".format(f1_score))\n"
      ],
      "execution_count": null,
      "outputs": [
        {
          "output_type": "stream",
          "text": [
            "Precision: 0.8434870902233826\n",
            "Recall : 0.837413594470046\n",
            "F1-score : 0.8404393698511345\n"
          ],
          "name": "stdout"
        }
      ]
    },
    {
      "cell_type": "code",
      "metadata": {
        "id": "9GNGx04cy1Nd",
        "colab_type": "code",
        "colab": {
          "base_uri": "https://localhost:8080/",
          "height": 136
        },
        "outputId": "f300c017-1a02-4ca1-8aef-07a316f60e5c"
      },
      "source": [
        "AUC=np.zeros((2,6))\n",
        "\n",
        "for i,x in enumerate(classes):\n",
        "  auc = np.array([metrics.roc_auc_score(y_train[:,i], train_pred[:,i]),\n",
        "                  metrics.roc_auc_score(y_test[:,i], predictions[:,i])])\n",
        "  print(x,\"Train AUC:\",auc[0],\", Test AUC:\",auc[1])\n",
        "  AUC[:,i] = auc\n",
        "    \n",
        "avg_auc = AUC.mean(axis=1)\n",
        "print(\"Average Train AUC:\",avg_auc[0],\", Average Test AUC:\",avg_auc[1])"
      ],
      "execution_count": null,
      "outputs": [
        {
          "output_type": "stream",
          "text": [
            "toxic Train AUC: 0.5027137042062415 , Test AUC: 0.5\n",
            "severe_toxic Train AUC: 0.6354243946051856 , Test AUC: 0.6139269390841161\n",
            "obscene Train AUC: 0.8954683392502145 , Test AUC: 0.8163715165712104\n",
            "threat Train AUC: 0.7650365485460034 , Test AUC: 0.6930843584590355\n",
            "insult Train AUC: 0.8152033525706932 , Test AUC: 0.7401928548268506\n",
            "identity_hate Train AUC: 0.8379362878136987 , Test AUC: 0.7565058664938188\n",
            "Average Train AUC: 0.7419637711653394 , Average Test AUC: 0.6866802559058386\n"
          ],
          "name": "stdout"
        }
      ]
    },
    {
      "cell_type": "code",
      "metadata": {
        "id": "jcr9geHAy37G",
        "colab_type": "code",
        "colab": {
          "base_uri": "https://localhost:8080/",
          "height": 332
        },
        "outputId": "ef88f95a-5929-4bd4-c68c-6a5e9b987a04"
      },
      "source": [
        "from sklearn import metrics\n",
        "import numpy as np\n",
        "from scipy import interp\n",
        "import matplotlib.pyplot as plt\n",
        "from itertools import cycle\n",
        "from sklearn.metrics import roc_curve, auc\n",
        "lw = 2\n",
        "n_classes = 6\n",
        "\n",
        "# Compute ROC curve and ROC area for each class\n",
        "fpr = dict()\n",
        "tpr = dict()\n",
        "roc_auc = dict()\n",
        "for i in range(n_classes):\n",
        "  fpr[i], tpr[i], _ = roc_curve(y_test[:, i], predictions[:, i])\n",
        "  roc_auc[i] = auc(fpr[i], tpr[i])\n",
        "\n",
        "# Compute micro-average ROC curve and ROC area\n",
        "fpr[\"micro\"], tpr[\"micro\"], _ = roc_curve(y_test.ravel(), predictions.ravel())\n",
        "roc_auc[\"micro\"] = auc(fpr[\"micro\"], tpr[\"micro\"])\n",
        "\n",
        "# Compute macro-average ROC curve and ROC area\n",
        "\n",
        "# First aggregate all false positive rates\n",
        "all_fpr = np.unique(np.concatenate([fpr[i] for i in range(n_classes)]))\n",
        "\n",
        "# Then interpolate all ROC curves at this points\n",
        "mean_tpr = np.zeros_like(all_fpr)\n",
        "for i in range(n_classes):\n",
        "  mean_tpr += interp(all_fpr, fpr[i], tpr[i])\n",
        "\n",
        "# Finally average it and compute AUC\n",
        "mean_tpr /= n_classes\n",
        "\n",
        "fpr[\"macro\"] = all_fpr\n",
        "tpr[\"macro\"] = mean_tpr\n",
        "roc_auc[\"macro\"] = auc(fpr[\"macro\"], tpr[\"macro\"])\n",
        "\n",
        "# Plot all ROC curves\n",
        "plt.figure(1)\n",
        "plt.plot(fpr[\"micro\"], tpr[\"micro\"],label='micro-average ROC curve (area = {0:0.2f})'''.format(roc_auc[\"micro\"]),color='deeppink', linestyle=':', linewidth=4)\n",
        "\n",
        "plt.plot(fpr[\"macro\"], tpr[\"macro\"],label='macro-average ROC curve (area = {0:0.2f})'''.format(roc_auc[\"macro\"]),color='navy', linestyle=':', linewidth=4)\n",
        "\n",
        "colors = cycle(['blue','green','red','yellow','cyan','magenta'])\n",
        "for i, color in zip(range(n_classes), colors):\n",
        "  plt.plot(fpr[i], tpr[i], color=color, lw=lw,\n",
        "           label='ROC curve of class {0} (area = {1:0.2f})'\n",
        "           ''.format(i, roc_auc[i]))\n",
        "\n",
        "plt.plot([0, 1], [0, 1], 'k--', lw=lw)\n",
        "plt.xlim([0.0, 1.0])\n",
        "plt.ylim([0.0, 1.05])\n",
        "plt.xlabel('False Positive Rate')\n",
        "plt.ylabel('True Positive Rate')\n",
        "plt.title('Some extension of Receiver operating characteristic to multi-class')\n",
        "plt.legend(loc=\"lower right\")\n",
        "plt.show()\n"
      ],
      "execution_count": null,
      "outputs": [
        {
          "output_type": "stream",
          "text": [
            "/usr/local/lib/python3.6/dist-packages/ipykernel_launcher.py:30: DeprecationWarning: scipy.interp is deprecated and will be removed in SciPy 2.0.0, use numpy.interp instead\n"
          ],
          "name": "stderr"
        },
        {
          "output_type": "display_data",
          "data": {
            "image/png": "[encoded data removed]",
            "text/plain": [
              "<Figure size 432x288 with 1 Axes>"
            ]
          },
          "metadata": {
            "tags": [],
            "needs_background": "light"
          }
        }
      ]
    },
    {
      "cell_type": "code",
      "metadata": {
        "id": "VwbjjDRZy7ZS",
        "colab_type": "code",
        "colab": {
          "base_uri": "https://localhost:8080/",
          "height": 221
        },
        "outputId": "40cac417-89c1-4740-9487-b83dea315ce5"
      },
      "source": [
        "def predict_toxicity(comment):\n",
        "    sequences = tokenizer.texts_to_sequences([comment])\n",
        "    pad_seq = pad_sequences(sequences, maxlen=maxlen)\n",
        "    pred = model.predict_proba(pad_seq)\n",
        "    return pred\n",
        "\n",
        "import random\n",
        "sample_text = random.choice(data[[\"comment_text\",\"toxic\", \"severe_toxic\", \"obscene\", \"threat\", \"insult\", \"identity_hate\"]].values.tolist())\n",
        "prediction= predict_toxicity(sample_text[0])\n",
        "pred = pd.DataFrame(prediction,index=[\"Probability\"], columns=classes)\n",
        "pred = pred.T\n",
        "pred['label'] = np.round(pred['Probability'])\n",
        "labels = pred[pred['label']==1].index.tolist()\n",
        "probability = pred.loc[pred['label'] == 1, 'Probability']\n",
        "probab = probability.rename_axis('Label').reset_index()\n",
        "# Print output\n",
        "print(\"Toxicity levels for '{}':\".format(sample_text[0]))\n",
        "print('Labels: {}'.format(' '.join([str(elem) for elem in labels])))\n",
        "print('Probabiltiy : {}'.format(' '.join([str(elem) for elem in probability])))\n",
        "\n",
        "print('Actual Labels {}'.format(sample_text[1:]))\n",
        "print(probab)\n",
        "probab['Label']\n",
        "\n"
      ],
      "execution_count": null,
      "outputs": [
        {
          "output_type": "stream",
          "text": [
            "Toxicity levels for 'fuck loser get wikipedia stop douche bag fun asshole':\n",
            "Labels: toxic obscene insult\n",
            "Probabiltiy : 0.9996997117996216 0.992199718952179 0.9598944783210754\n",
            "Actual Labels [1, 1, 1, 0, 1, 0]\n",
            "     Label  Probability\n",
            "0    toxic     0.999700\n",
            "1  obscene     0.992200\n",
            "2   insult     0.959894\n"
          ],
          "name": "stdout"
        },
        {
          "output_type": "execute_result",
          "data": {
            "text/plain": [
              "0      toxic\n",
              "1    obscene\n",
              "2     insult\n",
              "Name: Label, dtype: object"
            ]
          },
          "metadata": {
            "tags": []
          },
          "execution_count": 347
        }
      ]
    }
  ]
}